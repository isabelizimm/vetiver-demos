{
  "cells": [
    {
      "cell_type": "markdown",
      "id": "59a5c350",
      "metadata": {},
      "source": [
        "## Build (or load) a model\n"
      ]
    },
    {
      "cell_type": "code",
      "execution_count": 1,
      "id": "5eeb2d6a",
      "metadata": {},
      "outputs": [],
      "source": [
        "import pins\n",
        "import vetiver\n",
        "\n",
        "import os\n",
        "from dotenv import load_dotenv, find_dotenv\n",
        "load_dotenv(find_dotenv())\n",
        "\n",
        "api_key = os.getenv(\"API_KEY\")\n",
        "rsc_url = os.getenv(\"RSC_URL\")\n",
        "\n",
        "board = pins.board_rsconnect(api_key=api_key, server_url=rsc_url, allow_pickle_read=True)"
      ]
    },
    {
      "cell_type": "code",
      "execution_count": 2,
      "id": "ed079b91",
      "metadata": {},
      "outputs": [],
      "source": [
        "v = vetiver.VetiverModel.from_pin(\n",
        "    board, \n",
        "    \"isabel.zimmerman/ridership\", \n",
        "    version=\"60193\"\n",
        ")"
      ]
    },
    {
      "cell_type": "markdown",
      "id": "89bfb786",
      "metadata": {},
      "source": [
        "Bring in some new data that lives on Connect."
      ]
    },
    {
      "cell_type": "code",
      "execution_count": 3,
      "id": "dc2f9409",
      "metadata": {},
      "outputs": [],
      "source": [
        "chicago = board.pin_read(\"isabel.zimmerman/new_chicago\")\n",
        "original_chicago = chicago.iloc[:100, :].copy()"
      ]
    },
    {
      "cell_type": "code",
      "execution_count": 4,
      "id": "4f14d742",
      "metadata": {},
      "outputs": [],
      "source": [
        "original_chicago[\"preds\"] = v.model.predict(\n",
        "    original_chicago.drop(columns=[\"ridership\", \"date\"])\n",
        "    )"
      ]
    },
    {
      "cell_type": "markdown",
      "id": "b206bef0",
      "metadata": {},
      "source": [
        "## Compute metrics\n",
        "\n",
        "Let's say we collect new data on fuel efficiency in cars and we want to monitor the performance of our model over time. We can compute multiple metrics at once over a certain time aggregation.\n"
      ]
    },
    {
      "cell_type": "code",
      "execution_count": 5,
      "id": "07a7de87",
      "metadata": {},
      "outputs": [],
      "source": [
        "from sklearn import metrics\n",
        "from datetime import timedelta\n",
        "\n",
        "metric_set = [metrics.mean_absolute_error, metrics.mean_squared_error]\n",
        "td = timedelta(weeks = 1)"
      ]
    },
    {
      "cell_type": "code",
      "execution_count": 6,
      "id": "b5a89232",
      "metadata": {},
      "outputs": [
        {
          "data": {
            "text/html": [
              "<div>\n",
              "<style scoped>\n",
              "    .dataframe tbody tr th:only-of-type {\n",
              "        vertical-align: middle;\n",
              "    }\n",
              "\n",
              "    .dataframe tbody tr th {\n",
              "        vertical-align: top;\n",
              "    }\n",
              "\n",
              "    .dataframe thead th {\n",
              "        text-align: right;\n",
              "    }\n",
              "</style>\n",
              "<table border=\"1\" class=\"dataframe\">\n",
              "  <thead>\n",
              "    <tr style=\"text-align: right;\">\n",
              "      <th></th>\n",
              "      <th>index</th>\n",
              "      <th>n</th>\n",
              "      <th>metric</th>\n",
              "      <th>estimate</th>\n",
              "    </tr>\n",
              "  </thead>\n",
              "  <tbody>\n",
              "    <tr>\n",
              "      <th>0</th>\n",
              "      <td>2014-10-01</td>\n",
              "      <td>7</td>\n",
              "      <td>mean_absolute_error</td>\n",
              "      <td>0.737403</td>\n",
              "    </tr>\n",
              "    <tr>\n",
              "      <th>1</th>\n",
              "      <td>2014-10-01</td>\n",
              "      <td>7</td>\n",
              "      <td>mean_squared_error</td>\n",
              "      <td>1.160815</td>\n",
              "    </tr>\n",
              "    <tr>\n",
              "      <th>2</th>\n",
              "      <td>2014-10-08</td>\n",
              "      <td>7</td>\n",
              "      <td>mean_absolute_error</td>\n",
              "      <td>1.349887</td>\n",
              "    </tr>\n",
              "    <tr>\n",
              "      <th>3</th>\n",
              "      <td>2014-10-08</td>\n",
              "      <td>7</td>\n",
              "      <td>mean_squared_error</td>\n",
              "      <td>2.743981</td>\n",
              "    </tr>\n",
              "    <tr>\n",
              "      <th>4</th>\n",
              "      <td>2014-10-15</td>\n",
              "      <td>7</td>\n",
              "      <td>mean_absolute_error</td>\n",
              "      <td>0.734174</td>\n",
              "    </tr>\n",
              "    <tr>\n",
              "      <th>5</th>\n",
              "      <td>2014-10-15</td>\n",
              "      <td>7</td>\n",
              "      <td>mean_squared_error</td>\n",
              "      <td>0.699126</td>\n",
              "    </tr>\n",
              "    <tr>\n",
              "      <th>6</th>\n",
              "      <td>2014-10-22</td>\n",
              "      <td>7</td>\n",
              "      <td>mean_absolute_error</td>\n",
              "      <td>1.131571</td>\n",
              "    </tr>\n",
              "    <tr>\n",
              "      <th>7</th>\n",
              "      <td>2014-10-22</td>\n",
              "      <td>7</td>\n",
              "      <td>mean_squared_error</td>\n",
              "      <td>2.773453</td>\n",
              "    </tr>\n",
              "    <tr>\n",
              "      <th>8</th>\n",
              "      <td>2014-10-29</td>\n",
              "      <td>7</td>\n",
              "      <td>mean_absolute_error</td>\n",
              "      <td>1.312606</td>\n",
              "    </tr>\n",
              "    <tr>\n",
              "      <th>9</th>\n",
              "      <td>2014-10-29</td>\n",
              "      <td>7</td>\n",
              "      <td>mean_squared_error</td>\n",
              "      <td>3.206079</td>\n",
              "    </tr>\n",
              "    <tr>\n",
              "      <th>10</th>\n",
              "      <td>2014-11-05</td>\n",
              "      <td>7</td>\n",
              "      <td>mean_absolute_error</td>\n",
              "      <td>0.926860</td>\n",
              "    </tr>\n",
              "    <tr>\n",
              "      <th>11</th>\n",
              "      <td>2014-11-05</td>\n",
              "      <td>7</td>\n",
              "      <td>mean_squared_error</td>\n",
              "      <td>1.724839</td>\n",
              "    </tr>\n",
              "    <tr>\n",
              "      <th>12</th>\n",
              "      <td>2014-11-12</td>\n",
              "      <td>7</td>\n",
              "      <td>mean_absolute_error</td>\n",
              "      <td>2.965623</td>\n",
              "    </tr>\n",
              "    <tr>\n",
              "      <th>13</th>\n",
              "      <td>2014-11-12</td>\n",
              "      <td>7</td>\n",
              "      <td>mean_squared_error</td>\n",
              "      <td>10.288502</td>\n",
              "    </tr>\n",
              "    <tr>\n",
              "      <th>14</th>\n",
              "      <td>2014-11-19</td>\n",
              "      <td>7</td>\n",
              "      <td>mean_absolute_error</td>\n",
              "      <td>3.099654</td>\n",
              "    </tr>\n",
              "    <tr>\n",
              "      <th>15</th>\n",
              "      <td>2014-11-19</td>\n",
              "      <td>7</td>\n",
              "      <td>mean_squared_error</td>\n",
              "      <td>12.421574</td>\n",
              "    </tr>\n",
              "    <tr>\n",
              "      <th>16</th>\n",
              "      <td>2014-11-26</td>\n",
              "      <td>7</td>\n",
              "      <td>mean_absolute_error</td>\n",
              "      <td>4.507480</td>\n",
              "    </tr>\n",
              "    <tr>\n",
              "      <th>17</th>\n",
              "      <td>2014-11-26</td>\n",
              "      <td>7</td>\n",
              "      <td>mean_squared_error</td>\n",
              "      <td>50.411399</td>\n",
              "    </tr>\n",
              "    <tr>\n",
              "      <th>18</th>\n",
              "      <td>2014-12-03</td>\n",
              "      <td>7</td>\n",
              "      <td>mean_absolute_error</td>\n",
              "      <td>1.578694</td>\n",
              "    </tr>\n",
              "    <tr>\n",
              "      <th>19</th>\n",
              "      <td>2014-12-03</td>\n",
              "      <td>7</td>\n",
              "      <td>mean_squared_error</td>\n",
              "      <td>3.486597</td>\n",
              "    </tr>\n",
              "    <tr>\n",
              "      <th>20</th>\n",
              "      <td>2014-12-10</td>\n",
              "      <td>7</td>\n",
              "      <td>mean_absolute_error</td>\n",
              "      <td>2.481994</td>\n",
              "    </tr>\n",
              "    <tr>\n",
              "      <th>21</th>\n",
              "      <td>2014-12-10</td>\n",
              "      <td>7</td>\n",
              "      <td>mean_squared_error</td>\n",
              "      <td>11.518612</td>\n",
              "    </tr>\n",
              "    <tr>\n",
              "      <th>22</th>\n",
              "      <td>2014-12-17</td>\n",
              "      <td>7</td>\n",
              "      <td>mean_absolute_error</td>\n",
              "      <td>1.795109</td>\n",
              "    </tr>\n",
              "    <tr>\n",
              "      <th>23</th>\n",
              "      <td>2014-12-17</td>\n",
              "      <td>7</td>\n",
              "      <td>mean_squared_error</td>\n",
              "      <td>3.544546</td>\n",
              "    </tr>\n",
              "    <tr>\n",
              "      <th>24</th>\n",
              "      <td>2014-12-24</td>\n",
              "      <td>7</td>\n",
              "      <td>mean_absolute_error</td>\n",
              "      <td>6.338219</td>\n",
              "    </tr>\n",
              "    <tr>\n",
              "      <th>25</th>\n",
              "      <td>2014-12-24</td>\n",
              "      <td>7</td>\n",
              "      <td>mean_squared_error</td>\n",
              "      <td>72.004391</td>\n",
              "    </tr>\n",
              "    <tr>\n",
              "      <th>26</th>\n",
              "      <td>2014-12-31</td>\n",
              "      <td>7</td>\n",
              "      <td>mean_absolute_error</td>\n",
              "      <td>3.253256</td>\n",
              "    </tr>\n",
              "    <tr>\n",
              "      <th>27</th>\n",
              "      <td>2014-12-31</td>\n",
              "      <td>7</td>\n",
              "      <td>mean_squared_error</td>\n",
              "      <td>21.068695</td>\n",
              "    </tr>\n",
              "    <tr>\n",
              "      <th>28</th>\n",
              "      <td>2015-01-07</td>\n",
              "      <td>2</td>\n",
              "      <td>mean_absolute_error</td>\n",
              "      <td>3.811720</td>\n",
              "    </tr>\n",
              "    <tr>\n",
              "      <th>29</th>\n",
              "      <td>2015-01-07</td>\n",
              "      <td>2</td>\n",
              "      <td>mean_squared_error</td>\n",
              "      <td>18.039774</td>\n",
              "    </tr>\n",
              "  </tbody>\n",
              "</table>\n",
              "</div>"
            ],
            "text/plain": [
              "        index  n               metric   estimate\n",
              "0  2014-10-01  7  mean_absolute_error   0.737403\n",
              "1  2014-10-01  7   mean_squared_error   1.160815\n",
              "2  2014-10-08  7  mean_absolute_error   1.349887\n",
              "3  2014-10-08  7   mean_squared_error   2.743981\n",
              "4  2014-10-15  7  mean_absolute_error   0.734174\n",
              "5  2014-10-15  7   mean_squared_error   0.699126\n",
              "6  2014-10-22  7  mean_absolute_error   1.131571\n",
              "7  2014-10-22  7   mean_squared_error   2.773453\n",
              "8  2014-10-29  7  mean_absolute_error   1.312606\n",
              "9  2014-10-29  7   mean_squared_error   3.206079\n",
              "10 2014-11-05  7  mean_absolute_error   0.926860\n",
              "11 2014-11-05  7   mean_squared_error   1.724839\n",
              "12 2014-11-12  7  mean_absolute_error   2.965623\n",
              "13 2014-11-12  7   mean_squared_error  10.288502\n",
              "14 2014-11-19  7  mean_absolute_error   3.099654\n",
              "15 2014-11-19  7   mean_squared_error  12.421574\n",
              "16 2014-11-26  7  mean_absolute_error   4.507480\n",
              "17 2014-11-26  7   mean_squared_error  50.411399\n",
              "18 2014-12-03  7  mean_absolute_error   1.578694\n",
              "19 2014-12-03  7   mean_squared_error   3.486597\n",
              "20 2014-12-10  7  mean_absolute_error   2.481994\n",
              "21 2014-12-10  7   mean_squared_error  11.518612\n",
              "22 2014-12-17  7  mean_absolute_error   1.795109\n",
              "23 2014-12-17  7   mean_squared_error   3.544546\n",
              "24 2014-12-24  7  mean_absolute_error   6.338219\n",
              "25 2014-12-24  7   mean_squared_error  72.004391\n",
              "26 2014-12-31  7  mean_absolute_error   3.253256\n",
              "27 2014-12-31  7   mean_squared_error  21.068695\n",
              "28 2015-01-07  2  mean_absolute_error   3.811720\n",
              "29 2015-01-07  2   mean_squared_error  18.039774"
            ]
          },
          "execution_count": 6,
          "metadata": {},
          "output_type": "execute_result"
        }
      ],
      "source": [
        "original_metrics = vetiver.compute_metrics(data = original_chicago, \n",
        "                    date_var=\"date\", \n",
        "                    period = td, \n",
        "                    metric_set=metric_set, \n",
        "                    truth=\"ridership\", \n",
        "                    estimate=\"preds\")\n",
        "original_metrics"
      ]
    },
    {
      "cell_type": "markdown",
      "id": "8717d4bc",
      "metadata": {},
      "source": [
        "## Pin metrics\n",
        "\n",
        "The first time you pin monitoring metrics, you can write to a board as normal. \n"
      ]
    },
    {
      "cell_type": "code",
      "execution_count": 7,
      "id": "ad974d95",
      "metadata": {},
      "outputs": [
        {
          "name": "stderr",
          "output_type": "stream",
          "text": [
            "Writing pin:\n",
            "Name: 'metrics'\n",
            "Version: 20220810T132526Z-9b981\n"
          ]
        },
        {
          "data": {
            "text/plain": [
              "Meta(title='metrics: a pinned 30 x 4 DataFrame', description=None, created='20220810T132526Z', pin_hash='9b9813939e75503c', file='metrics.csv', file_size=1556, type='csv', api_version=1, version=Version(created=datetime.datetime(2022, 8, 10, 13, 25, 26, 93420), hash='9b9813939e75503c'), name='metrics', user={})"
            ]
          },
          "execution_count": 7,
          "metadata": {},
          "output_type": "execute_result"
        }
      ],
      "source": [
        "my_board = pins.board_folder(path=\".\")\n",
        "my_board.pin_write(original_metrics, \"metrics\", type = \"csv\")"
      ]
    },
    {
      "cell_type": "markdown",
      "id": "80f61e3f",
      "metadata": {},
      "source": [
        "However, when adding new metrics measurements to your pin as you continue to gather new data and monitor, you may have dates that overlap with those already in the pin, depending on your monitoring strategy. You can choose how to handle overlapping dates with the `overwrite` argument.\n"
      ]
    },
    {
      "cell_type": "code",
      "execution_count": 8,
      "id": "65a750b3",
      "metadata": {},
      "outputs": [],
      "source": [
        "#| output: false\n",
        "# dates overlap with existing metrics:\n",
        "new_chicago = chicago.iloc[75:, :].copy()\n",
        "new_chicago[\"preds\"] = v.model.predict(\n",
        "    new_chicago.drop(columns=[\"date\", \"ridership\"])\n",
        ")\n",
        "\n",
        "new_metrics = vetiver.compute_metrics(data = new_chicago, \n",
        "                    date_var=\"date\", \n",
        "                    period = td, \n",
        "                    metric_set=metric_set, \n",
        "                    truth=\"ridership\", \n",
        "                    estimate=\"preds\")                    "
      ]
    },
    {
      "cell_type": "code",
      "execution_count": 9,
      "id": "4fe64361",
      "metadata": {},
      "outputs": [
        {
          "name": "stderr",
          "output_type": "stream",
          "text": [
            "Writing pin:\n",
            "Name: 'metrics'\n",
            "Version: 20220810T132556Z-9871c\n"
          ]
        },
        {
          "data": {
            "text/html": [
              "<div>\n",
              "<style scoped>\n",
              "    .dataframe tbody tr th:only-of-type {\n",
              "        vertical-align: middle;\n",
              "    }\n",
              "\n",
              "    .dataframe tbody tr th {\n",
              "        vertical-align: top;\n",
              "    }\n",
              "\n",
              "    .dataframe thead th {\n",
              "        text-align: right;\n",
              "    }\n",
              "</style>\n",
              "<table border=\"1\" class=\"dataframe\">\n",
              "  <thead>\n",
              "    <tr style=\"text-align: right;\">\n",
              "      <th></th>\n",
              "      <th>index</th>\n",
              "      <th>n</th>\n",
              "      <th>metric</th>\n",
              "      <th>estimate</th>\n",
              "    </tr>\n",
              "  </thead>\n",
              "  <tbody>\n",
              "    <tr>\n",
              "      <th>0</th>\n",
              "      <td>2014-10-01</td>\n",
              "      <td>7</td>\n",
              "      <td>mean_absolute_error</td>\n",
              "      <td>0.737403</td>\n",
              "    </tr>\n",
              "    <tr>\n",
              "      <th>1</th>\n",
              "      <td>2014-10-01</td>\n",
              "      <td>7</td>\n",
              "      <td>mean_squared_error</td>\n",
              "      <td>1.160815</td>\n",
              "    </tr>\n",
              "    <tr>\n",
              "      <th>2</th>\n",
              "      <td>2014-10-08</td>\n",
              "      <td>7</td>\n",
              "      <td>mean_absolute_error</td>\n",
              "      <td>1.349887</td>\n",
              "    </tr>\n",
              "    <tr>\n",
              "      <th>3</th>\n",
              "      <td>2014-10-08</td>\n",
              "      <td>7</td>\n",
              "      <td>mean_squared_error</td>\n",
              "      <td>2.743981</td>\n",
              "    </tr>\n",
              "    <tr>\n",
              "      <th>4</th>\n",
              "      <td>2014-10-15</td>\n",
              "      <td>7</td>\n",
              "      <td>mean_absolute_error</td>\n",
              "      <td>0.734174</td>\n",
              "    </tr>\n",
              "    <tr>\n",
              "      <th>...</th>\n",
              "      <td>...</td>\n",
              "      <td>...</td>\n",
              "      <td>...</td>\n",
              "      <td>...</td>\n",
              "    </tr>\n",
              "    <tr>\n",
              "      <th>203</th>\n",
              "      <td>2016-08-08</td>\n",
              "      <td>7</td>\n",
              "      <td>mean_squared_error</td>\n",
              "      <td>1.402398</td>\n",
              "    </tr>\n",
              "    <tr>\n",
              "      <th>204</th>\n",
              "      <td>2016-08-15</td>\n",
              "      <td>7</td>\n",
              "      <td>mean_absolute_error</td>\n",
              "      <td>0.922150</td>\n",
              "    </tr>\n",
              "    <tr>\n",
              "      <th>205</th>\n",
              "      <td>2016-08-15</td>\n",
              "      <td>7</td>\n",
              "      <td>mean_squared_error</td>\n",
              "      <td>1.195525</td>\n",
              "    </tr>\n",
              "    <tr>\n",
              "      <th>206</th>\n",
              "      <td>2016-08-22</td>\n",
              "      <td>7</td>\n",
              "      <td>mean_absolute_error</td>\n",
              "      <td>0.946992</td>\n",
              "    </tr>\n",
              "    <tr>\n",
              "      <th>207</th>\n",
              "      <td>2016-08-22</td>\n",
              "      <td>7</td>\n",
              "      <td>mean_squared_error</td>\n",
              "      <td>1.052045</td>\n",
              "    </tr>\n",
              "  </tbody>\n",
              "</table>\n",
              "<p>208 rows × 4 columns</p>\n",
              "</div>"
            ],
            "text/plain": [
              "         index  n               metric  estimate\n",
              "0   2014-10-01  7  mean_absolute_error  0.737403\n",
              "1   2014-10-01  7   mean_squared_error  1.160815\n",
              "2   2014-10-08  7  mean_absolute_error  1.349887\n",
              "3   2014-10-08  7   mean_squared_error  2.743981\n",
              "4   2014-10-15  7  mean_absolute_error  0.734174\n",
              "..         ... ..                  ...       ...\n",
              "203 2016-08-08  7   mean_squared_error  1.402398\n",
              "204 2016-08-15  7  mean_absolute_error  0.922150\n",
              "205 2016-08-15  7   mean_squared_error  1.195525\n",
              "206 2016-08-22  7  mean_absolute_error  0.946992\n",
              "207 2016-08-22  7   mean_squared_error  1.052045\n",
              "\n",
              "[208 rows x 4 columns]"
            ]
          },
          "execution_count": 9,
          "metadata": {},
          "output_type": "execute_result"
        }
      ],
      "source": [
        "vetiver.pin_metrics(\n",
        "    my_board, \n",
        "    new_metrics, \n",
        "    \"metrics\", \n",
        "    overwrite = True\n",
        ")"
      ]
    },
    {
      "cell_type": "markdown",
      "id": "ca4e4bd4",
      "metadata": {},
      "source": [
        "## Plot metrics\n",
        "\n",
        "You can visualize your set of computed metrics and your model's performance.\n"
      ]
    },
    {
      "cell_type": "code",
      "execution_count": 10,
      "id": "006e430d",
      "metadata": {},
      "outputs": [],
      "source": [
        "m = my_board.pin_read(\"metrics\", version=\"20220810T132556Z-9871c\")"
      ]
    },
    {
      "cell_type": "code",
      "execution_count": 11,
      "id": "0dc39c02",
      "metadata": {},
      "outputs": [
        {
          "data": {
            "application/vnd.plotly.v1+json": {
              "config": {
                "plotlyServerURL": "https://plot.ly"
              },
              "data": [
                {
                  "customdata": [
                    [
                      7
                    ],
                    [
                      7
                    ],
                    [
                      7
                    ],
                    [
                      7
                    ],
                    [
                      7
                    ],
                    [
                      7
                    ],
                    [
                      7
                    ],
                    [
                      7
                    ],
                    [
                      7
                    ],
                    [
                      7
                    ],
                    [
                      7
                    ],
                    [
                      7
                    ],
                    [
                      7
                    ],
                    [
                      7
                    ],
                    [
                      7
                    ],
                    [
                      7
                    ],
                    [
                      7
                    ],
                    [
                      7
                    ],
                    [
                      2
                    ],
                    [
                      7
                    ],
                    [
                      7
                    ],
                    [
                      7
                    ],
                    [
                      7
                    ],
                    [
                      7
                    ],
                    [
                      7
                    ],
                    [
                      7
                    ],
                    [
                      7
                    ],
                    [
                      7
                    ],
                    [
                      7
                    ],
                    [
                      7
                    ],
                    [
                      7
                    ],
                    [
                      7
                    ],
                    [
                      7
                    ],
                    [
                      7
                    ],
                    [
                      7
                    ],
                    [
                      7
                    ],
                    [
                      7
                    ],
                    [
                      7
                    ],
                    [
                      7
                    ],
                    [
                      7
                    ],
                    [
                      7
                    ],
                    [
                      7
                    ],
                    [
                      7
                    ],
                    [
                      7
                    ],
                    [
                      7
                    ],
                    [
                      7
                    ],
                    [
                      7
                    ],
                    [
                      7
                    ],
                    [
                      7
                    ],
                    [
                      7
                    ],
                    [
                      7
                    ],
                    [
                      7
                    ],
                    [
                      7
                    ],
                    [
                      7
                    ],
                    [
                      7
                    ],
                    [
                      7
                    ],
                    [
                      7
                    ],
                    [
                      7
                    ],
                    [
                      7
                    ],
                    [
                      7
                    ],
                    [
                      7
                    ],
                    [
                      7
                    ],
                    [
                      7
                    ],
                    [
                      7
                    ],
                    [
                      7
                    ],
                    [
                      7
                    ],
                    [
                      7
                    ],
                    [
                      7
                    ],
                    [
                      7
                    ],
                    [
                      7
                    ],
                    [
                      7
                    ],
                    [
                      7
                    ],
                    [
                      7
                    ],
                    [
                      7
                    ],
                    [
                      7
                    ],
                    [
                      7
                    ],
                    [
                      7
                    ],
                    [
                      7
                    ],
                    [
                      7
                    ],
                    [
                      7
                    ],
                    [
                      7
                    ],
                    [
                      7
                    ],
                    [
                      7
                    ],
                    [
                      7
                    ],
                    [
                      7
                    ],
                    [
                      7
                    ],
                    [
                      7
                    ],
                    [
                      7
                    ],
                    [
                      7
                    ],
                    [
                      7
                    ],
                    [
                      7
                    ],
                    [
                      7
                    ],
                    [
                      7
                    ],
                    [
                      7
                    ],
                    [
                      7
                    ],
                    [
                      7
                    ],
                    [
                      7
                    ],
                    [
                      7
                    ],
                    [
                      7
                    ],
                    [
                      7
                    ],
                    [
                      7
                    ],
                    [
                      7
                    ],
                    [
                      7
                    ],
                    [
                      7
                    ]
                  ],
                  "hovertemplate": "metric=mean_absolute_error<br>index=%{x}<br>estimate=%{y}<br>n=%{customdata[0]:}<extra></extra>",
                  "legendgroup": "mean_absolute_error",
                  "line": {
                    "color": "#636efa",
                    "dash": "solid"
                  },
                  "marker": {
                    "symbol": "circle"
                  },
                  "mode": "lines+markers",
                  "name": "mean_absolute_error",
                  "orientation": "v",
                  "showlegend": true,
                  "type": "scatter",
                  "x": [
                    "2014-10-01",
                    "2014-10-08",
                    "2014-10-15",
                    "2014-10-22",
                    "2014-10-29",
                    "2014-11-05",
                    "2014-11-12",
                    "2014-11-19",
                    "2014-11-26",
                    "2014-12-03",
                    "2014-12-10",
                    "2014-12-15",
                    "2014-12-17",
                    "2014-12-22",
                    "2014-12-24",
                    "2014-12-29",
                    "2014-12-31",
                    "2015-01-05",
                    "2015-01-07",
                    "2015-01-12",
                    "2015-01-19",
                    "2015-01-26",
                    "2015-02-02",
                    "2015-02-09",
                    "2015-02-16",
                    "2015-02-23",
                    "2015-03-02",
                    "2015-03-09",
                    "2015-03-16",
                    "2015-03-23",
                    "2015-03-30",
                    "2015-04-06",
                    "2015-04-13",
                    "2015-04-20",
                    "2015-04-27",
                    "2015-05-04",
                    "2015-05-11",
                    "2015-05-18",
                    "2015-05-25",
                    "2015-06-01",
                    "2015-06-08",
                    "2015-06-15",
                    "2015-06-22",
                    "2015-06-29",
                    "2015-07-06",
                    "2015-07-13",
                    "2015-07-20",
                    "2015-07-27",
                    "2015-08-03",
                    "2015-08-10",
                    "2015-08-17",
                    "2015-08-24",
                    "2015-08-31",
                    "2015-09-07",
                    "2015-09-14",
                    "2015-09-21",
                    "2015-09-28",
                    "2015-10-05",
                    "2015-10-12",
                    "2015-10-19",
                    "2015-10-26",
                    "2015-11-02",
                    "2015-11-09",
                    "2015-11-16",
                    "2015-11-23",
                    "2015-11-30",
                    "2015-12-07",
                    "2015-12-14",
                    "2015-12-21",
                    "2015-12-28",
                    "2016-01-04",
                    "2016-01-11",
                    "2016-01-18",
                    "2016-01-25",
                    "2016-02-01",
                    "2016-02-08",
                    "2016-02-15",
                    "2016-02-22",
                    "2016-02-29",
                    "2016-03-07",
                    "2016-03-14",
                    "2016-03-21",
                    "2016-03-28",
                    "2016-04-04",
                    "2016-04-11",
                    "2016-04-18",
                    "2016-04-25",
                    "2016-05-02",
                    "2016-05-09",
                    "2016-05-16",
                    "2016-05-23",
                    "2016-05-30",
                    "2016-06-06",
                    "2016-06-13",
                    "2016-06-20",
                    "2016-06-27",
                    "2016-07-04",
                    "2016-07-11",
                    "2016-07-18",
                    "2016-07-25",
                    "2016-08-01",
                    "2016-08-08",
                    "2016-08-15",
                    "2016-08-22"
                  ],
                  "xaxis": "x2",
                  "y": [
                    0.7374028571428545,
                    1.349887142857142,
                    0.7341742857142873,
                    1.1315714285714302,
                    1.3126057142857153,
                    0.9268600000000008,
                    2.96562285714286,
                    3.0996542857142875,
                    4.507480000000002,
                    1.578694285714286,
                    2.481994285714284,
                    1.2866928571428575,
                    1.7951085714285715,
                    6.639945714285715,
                    6.338218571428572,
                    2.872655714285713,
                    3.253255714285713,
                    2.862031428571427,
                    3.811719999999996,
                    3.945360000000001,
                    2.298514285714288,
                    1.4511228571428572,
                    1.3202971428571435,
                    1.4184157142857166,
                    2.1741728571428576,
                    2.0795385714285755,
                    1.6046371428571422,
                    2.83080285714286,
                    1.9856171428571447,
                    2.3499999999999988,
                    0.6935257142857157,
                    1.0478214285714296,
                    1.7551557142857106,
                    2.3729242857142845,
                    1.183251428571426,
                    0.9228242857142848,
                    1.4438985714285693,
                    1.1348014285714272,
                    3.5107499999999976,
                    1.2315707142857149,
                    3.95347071428571,
                    2.798844285714284,
                    1.1956842857142846,
                    3.1120299999999985,
                    2.3904814285714253,
                    3.083375714285713,
                    1.445698571428567,
                    1.791417142857139,
                    1.7992657142857114,
                    0.8388042857142847,
                    1.4231157142857112,
                    1.0819028571428528,
                    1.5114928571428554,
                    3.0975214285714263,
                    1.5043028571428556,
                    3.2006742857142845,
                    2.883964285714282,
                    2.2850014285714297,
                    2.2117,
                    2.5659271428571406,
                    3.047659999999999,
                    1.730668571428571,
                    2.160967142857143,
                    2.0208028571428573,
                    5.787634285714288,
                    2.7128271428571438,
                    5.580431428571427,
                    1.8553785714285704,
                    5.407550000000001,
                    4.087968571428569,
                    6.026397142857144,
                    4.425391428571428,
                    2.4519614285714275,
                    2.014707142857143,
                    1.961044285714287,
                    1.823432857142856,
                    3.091438571428572,
                    1.6766085714285706,
                    2.792072857142855,
                    2.357837142857138,
                    1.6740814285714245,
                    0.9472957142857148,
                    1.7198385714285718,
                    2.6306914285714265,
                    1.2659585714285673,
                    0.9216942857142804,
                    1.2090457142857158,
                    1.951129999999996,
                    1.005589999999997,
                    0.9622721428571388,
                    1.1133264285714308,
                    3.350842142857143,
                    2.3663457142857105,
                    4.175722857142856,
                    1.7762357142857108,
                    0.9209528571428552,
                    2.8747842857142856,
                    1.419309999999999,
                    3.493408571428571,
                    1.86173857142857,
                    1.7432492857142814,
                    1.0208757142857117,
                    0.9221499999999948,
                    0.9469921428571364
                  ],
                  "yaxis": "y2"
                },
                {
                  "customdata": [
                    [
                      7
                    ],
                    [
                      7
                    ],
                    [
                      7
                    ],
                    [
                      7
                    ],
                    [
                      7
                    ],
                    [
                      7
                    ],
                    [
                      7
                    ],
                    [
                      7
                    ],
                    [
                      7
                    ],
                    [
                      7
                    ],
                    [
                      7
                    ],
                    [
                      7
                    ],
                    [
                      7
                    ],
                    [
                      7
                    ],
                    [
                      7
                    ],
                    [
                      7
                    ],
                    [
                      7
                    ],
                    [
                      7
                    ],
                    [
                      2
                    ],
                    [
                      7
                    ],
                    [
                      7
                    ],
                    [
                      7
                    ],
                    [
                      7
                    ],
                    [
                      7
                    ],
                    [
                      7
                    ],
                    [
                      7
                    ],
                    [
                      7
                    ],
                    [
                      7
                    ],
                    [
                      7
                    ],
                    [
                      7
                    ],
                    [
                      7
                    ],
                    [
                      7
                    ],
                    [
                      7
                    ],
                    [
                      7
                    ],
                    [
                      7
                    ],
                    [
                      7
                    ],
                    [
                      7
                    ],
                    [
                      7
                    ],
                    [
                      7
                    ],
                    [
                      7
                    ],
                    [
                      7
                    ],
                    [
                      7
                    ],
                    [
                      7
                    ],
                    [
                      7
                    ],
                    [
                      7
                    ],
                    [
                      7
                    ],
                    [
                      7
                    ],
                    [
                      7
                    ],
                    [
                      7
                    ],
                    [
                      7
                    ],
                    [
                      7
                    ],
                    [
                      7
                    ],
                    [
                      7
                    ],
                    [
                      7
                    ],
                    [
                      7
                    ],
                    [
                      7
                    ],
                    [
                      7
                    ],
                    [
                      7
                    ],
                    [
                      7
                    ],
                    [
                      7
                    ],
                    [
                      7
                    ],
                    [
                      7
                    ],
                    [
                      7
                    ],
                    [
                      7
                    ],
                    [
                      7
                    ],
                    [
                      7
                    ],
                    [
                      7
                    ],
                    [
                      7
                    ],
                    [
                      7
                    ],
                    [
                      7
                    ],
                    [
                      7
                    ],
                    [
                      7
                    ],
                    [
                      7
                    ],
                    [
                      7
                    ],
                    [
                      7
                    ],
                    [
                      7
                    ],
                    [
                      7
                    ],
                    [
                      7
                    ],
                    [
                      7
                    ],
                    [
                      7
                    ],
                    [
                      7
                    ],
                    [
                      7
                    ],
                    [
                      7
                    ],
                    [
                      7
                    ],
                    [
                      7
                    ],
                    [
                      7
                    ],
                    [
                      7
                    ],
                    [
                      7
                    ],
                    [
                      7
                    ],
                    [
                      7
                    ],
                    [
                      7
                    ],
                    [
                      7
                    ],
                    [
                      7
                    ],
                    [
                      7
                    ],
                    [
                      7
                    ],
                    [
                      7
                    ],
                    [
                      7
                    ],
                    [
                      7
                    ],
                    [
                      7
                    ],
                    [
                      7
                    ],
                    [
                      7
                    ],
                    [
                      7
                    ],
                    [
                      7
                    ],
                    [
                      7
                    ]
                  ],
                  "hovertemplate": "metric=mean_squared_error<br>index=%{x}<br>estimate=%{y}<br>n=%{customdata[0]:}<extra></extra>",
                  "legendgroup": "mean_squared_error",
                  "line": {
                    "color": "#EF553B",
                    "dash": "solid"
                  },
                  "marker": {
                    "symbol": "circle"
                  },
                  "mode": "lines+markers",
                  "name": "mean_squared_error",
                  "orientation": "v",
                  "showlegend": true,
                  "type": "scatter",
                  "x": [
                    "2014-10-01",
                    "2014-10-08",
                    "2014-10-15",
                    "2014-10-22",
                    "2014-10-29",
                    "2014-11-05",
                    "2014-11-12",
                    "2014-11-19",
                    "2014-11-26",
                    "2014-12-03",
                    "2014-12-10",
                    "2014-12-15",
                    "2014-12-17",
                    "2014-12-22",
                    "2014-12-24",
                    "2014-12-29",
                    "2014-12-31",
                    "2015-01-05",
                    "2015-01-07",
                    "2015-01-12",
                    "2015-01-19",
                    "2015-01-26",
                    "2015-02-02",
                    "2015-02-09",
                    "2015-02-16",
                    "2015-02-23",
                    "2015-03-02",
                    "2015-03-09",
                    "2015-03-16",
                    "2015-03-23",
                    "2015-03-30",
                    "2015-04-06",
                    "2015-04-13",
                    "2015-04-20",
                    "2015-04-27",
                    "2015-05-04",
                    "2015-05-11",
                    "2015-05-18",
                    "2015-05-25",
                    "2015-06-01",
                    "2015-06-08",
                    "2015-06-15",
                    "2015-06-22",
                    "2015-06-29",
                    "2015-07-06",
                    "2015-07-13",
                    "2015-07-20",
                    "2015-07-27",
                    "2015-08-03",
                    "2015-08-10",
                    "2015-08-17",
                    "2015-08-24",
                    "2015-08-31",
                    "2015-09-07",
                    "2015-09-14",
                    "2015-09-21",
                    "2015-09-28",
                    "2015-10-05",
                    "2015-10-12",
                    "2015-10-19",
                    "2015-10-26",
                    "2015-11-02",
                    "2015-11-09",
                    "2015-11-16",
                    "2015-11-23",
                    "2015-11-30",
                    "2015-12-07",
                    "2015-12-14",
                    "2015-12-21",
                    "2015-12-28",
                    "2016-01-04",
                    "2016-01-11",
                    "2016-01-18",
                    "2016-01-25",
                    "2016-02-01",
                    "2016-02-08",
                    "2016-02-15",
                    "2016-02-22",
                    "2016-02-29",
                    "2016-03-07",
                    "2016-03-14",
                    "2016-03-21",
                    "2016-03-28",
                    "2016-04-04",
                    "2016-04-11",
                    "2016-04-18",
                    "2016-04-25",
                    "2016-05-02",
                    "2016-05-09",
                    "2016-05-16",
                    "2016-05-23",
                    "2016-05-30",
                    "2016-06-06",
                    "2016-06-13",
                    "2016-06-20",
                    "2016-06-27",
                    "2016-07-04",
                    "2016-07-11",
                    "2016-07-18",
                    "2016-07-25",
                    "2016-08-01",
                    "2016-08-08",
                    "2016-08-15",
                    "2016-08-22"
                  ],
                  "xaxis": "x",
                  "y": [
                    1.160814986114277,
                    2.743981184071429,
                    0.6991264342571455,
                    2.773452921228575,
                    3.206078626600007,
                    1.724839032828579,
                    10.28850175925716,
                    12.421574379600017,
                    50.41139898405713,
                    3.4865972459999983,
                    11.518611548828565,
                    1.937547478357148,
                    3.5445463659428538,
                    72.99296134657148,
                    72.00439087207148,
                    19.719115596414294,
                    21.068694573271443,
                    9.808264849885708,
                    18.039773680899987,
                    22.92255358999998,
                    6.553303333971447,
                    2.476753888399997,
                    2.1521402218857184,
                    2.634448393871437,
                    8.139352320699992,
                    5.258290886785729,
                    4.395934313428569,
                    12.232913773657147,
                    6.036733844742858,
                    8.21306420231429,
                    1.2515352097714325,
                    1.7540122041000046,
                    3.671566288242844,
                    6.173017886957139,
                    3.421543410914286,
                    0.9559220972428574,
                    3.237433271957142,
                    1.722353038414281,
                    32.107911583299995,
                    1.9008981251464292,
                    33.92963535824642,
                    9.339135803614274,
                    1.9285798022999951,
                    20.59372194158573,
                    9.258622174785694,
                    14.824513348271426,
                    2.434446411128557,
                    3.6538750365428414,
                    3.653930846971419,
                    0.8023093393571405,
                    3.863119914699989,
                    1.5345122989142743,
                    3.137457592442856,
                    30.274095234157127,
                    2.937045580628564,
                    17.02942952414285,
                    9.845081623985704,
                    5.960107266300007,
                    5.724496810971421,
                    7.040978341585706,
                    12.342639399971418,
                    4.218741747371428,
                    7.27864168661428,
                    5.477389617199996,
                    64.32729321280009,
                    8.944361169385717,
                    58.08288682217141,
                    4.7847110616142885,
                    56.488829855671405,
                    29.026954300714262,
                    58.74780749902858,
                    37.193271631400016,
                    10.126769283700002,
                    5.317306134642855,
                    5.84599661107144,
                    4.434021083442856,
                    12.941388364499998,
                    4.050660711342853,
                    8.520641218414271,
                    9.663487774428557,
                    4.078261954928554,
                    1.217967676100002,
                    4.010951703699989,
                    9.489950829799987,
                    2.29209730447142,
                    1.108008491571416,
                    1.6742356881428575,
                    5.450634773242837,
                    1.4622370883285658,
                    1.1939346961607027,
                    1.7395372810321523,
                    29.456571414475043,
                    7.880837907199974,
                    43.56465688154284,
                    3.4991815039285585,
                    1.0043218232714233,
                    31.00109084887145,
                    2.5479442251857094,
                    36.530225035028586,
                    4.606395730014275,
                    3.436534698117839,
                    1.4023976418714188,
                    1.1955251299857037,
                    1.0520451930892734
                  ],
                  "yaxis": "y"
                }
              ],
              "layout": {
                "annotations": [
                  {
                    "font": {},
                    "showarrow": false,
                    "text": "mean_squared_error",
                    "textangle": 90,
                    "x": 0.98,
                    "xanchor": "left",
                    "xref": "paper",
                    "y": 0.2425,
                    "yanchor": "middle",
                    "yref": "paper"
                  },
                  {
                    "font": {},
                    "showarrow": false,
                    "text": "mean_absolute_error",
                    "textangle": 90,
                    "x": 0.98,
                    "xanchor": "left",
                    "xref": "paper",
                    "y": 0.7575000000000001,
                    "yanchor": "middle",
                    "yref": "paper"
                  }
                ],
                "legend": {
                  "title": {
                    "text": "metric"
                  },
                  "tracegroupgap": 0
                },
                "margin": {
                  "t": 60
                },
                "showlegend": false,
                "template": {
                  "data": {
                    "bar": [
                      {
                        "error_x": {
                          "color": "#2a3f5f"
                        },
                        "error_y": {
                          "color": "#2a3f5f"
                        },
                        "marker": {
                          "line": {
                            "color": "#E5ECF6",
                            "width": 0.5
                          },
                          "pattern": {
                            "fillmode": "overlay",
                            "size": 10,
                            "solidity": 0.2
                          }
                        },
                        "type": "bar"
                      }
                    ],
                    "barpolar": [
                      {
                        "marker": {
                          "line": {
                            "color": "#E5ECF6",
                            "width": 0.5
                          },
                          "pattern": {
                            "fillmode": "overlay",
                            "size": 10,
                            "solidity": 0.2
                          }
                        },
                        "type": "barpolar"
                      }
                    ],
                    "carpet": [
                      {
                        "aaxis": {
                          "endlinecolor": "#2a3f5f",
                          "gridcolor": "white",
                          "linecolor": "white",
                          "minorgridcolor": "white",
                          "startlinecolor": "#2a3f5f"
                        },
                        "baxis": {
                          "endlinecolor": "#2a3f5f",
                          "gridcolor": "white",
                          "linecolor": "white",
                          "minorgridcolor": "white",
                          "startlinecolor": "#2a3f5f"
                        },
                        "type": "carpet"
                      }
                    ],
                    "choropleth": [
                      {
                        "colorbar": {
                          "outlinewidth": 0,
                          "ticks": ""
                        },
                        "type": "choropleth"
                      }
                    ],
                    "contour": [
                      {
                        "colorbar": {
                          "outlinewidth": 0,
                          "ticks": ""
                        },
                        "colorscale": [
                          [
                            0,
                            "#0d0887"
                          ],
                          [
                            0.1111111111111111,
                            "#46039f"
                          ],
                          [
                            0.2222222222222222,
                            "#7201a8"
                          ],
                          [
                            0.3333333333333333,
                            "#9c179e"
                          ],
                          [
                            0.4444444444444444,
                            "#bd3786"
                          ],
                          [
                            0.5555555555555556,
                            "#d8576b"
                          ],
                          [
                            0.6666666666666666,
                            "#ed7953"
                          ],
                          [
                            0.7777777777777778,
                            "#fb9f3a"
                          ],
                          [
                            0.8888888888888888,
                            "#fdca26"
                          ],
                          [
                            1,
                            "#f0f921"
                          ]
                        ],
                        "type": "contour"
                      }
                    ],
                    "contourcarpet": [
                      {
                        "colorbar": {
                          "outlinewidth": 0,
                          "ticks": ""
                        },
                        "type": "contourcarpet"
                      }
                    ],
                    "heatmap": [
                      {
                        "colorbar": {
                          "outlinewidth": 0,
                          "ticks": ""
                        },
                        "colorscale": [
                          [
                            0,
                            "#0d0887"
                          ],
                          [
                            0.1111111111111111,
                            "#46039f"
                          ],
                          [
                            0.2222222222222222,
                            "#7201a8"
                          ],
                          [
                            0.3333333333333333,
                            "#9c179e"
                          ],
                          [
                            0.4444444444444444,
                            "#bd3786"
                          ],
                          [
                            0.5555555555555556,
                            "#d8576b"
                          ],
                          [
                            0.6666666666666666,
                            "#ed7953"
                          ],
                          [
                            0.7777777777777778,
                            "#fb9f3a"
                          ],
                          [
                            0.8888888888888888,
                            "#fdca26"
                          ],
                          [
                            1,
                            "#f0f921"
                          ]
                        ],
                        "type": "heatmap"
                      }
                    ],
                    "heatmapgl": [
                      {
                        "colorbar": {
                          "outlinewidth": 0,
                          "ticks": ""
                        },
                        "colorscale": [
                          [
                            0,
                            "#0d0887"
                          ],
                          [
                            0.1111111111111111,
                            "#46039f"
                          ],
                          [
                            0.2222222222222222,
                            "#7201a8"
                          ],
                          [
                            0.3333333333333333,
                            "#9c179e"
                          ],
                          [
                            0.4444444444444444,
                            "#bd3786"
                          ],
                          [
                            0.5555555555555556,
                            "#d8576b"
                          ],
                          [
                            0.6666666666666666,
                            "#ed7953"
                          ],
                          [
                            0.7777777777777778,
                            "#fb9f3a"
                          ],
                          [
                            0.8888888888888888,
                            "#fdca26"
                          ],
                          [
                            1,
                            "#f0f921"
                          ]
                        ],
                        "type": "heatmapgl"
                      }
                    ],
                    "histogram": [
                      {
                        "marker": {
                          "pattern": {
                            "fillmode": "overlay",
                            "size": 10,
                            "solidity": 0.2
                          }
                        },
                        "type": "histogram"
                      }
                    ],
                    "histogram2d": [
                      {
                        "colorbar": {
                          "outlinewidth": 0,
                          "ticks": ""
                        },
                        "colorscale": [
                          [
                            0,
                            "#0d0887"
                          ],
                          [
                            0.1111111111111111,
                            "#46039f"
                          ],
                          [
                            0.2222222222222222,
                            "#7201a8"
                          ],
                          [
                            0.3333333333333333,
                            "#9c179e"
                          ],
                          [
                            0.4444444444444444,
                            "#bd3786"
                          ],
                          [
                            0.5555555555555556,
                            "#d8576b"
                          ],
                          [
                            0.6666666666666666,
                            "#ed7953"
                          ],
                          [
                            0.7777777777777778,
                            "#fb9f3a"
                          ],
                          [
                            0.8888888888888888,
                            "#fdca26"
                          ],
                          [
                            1,
                            "#f0f921"
                          ]
                        ],
                        "type": "histogram2d"
                      }
                    ],
                    "histogram2dcontour": [
                      {
                        "colorbar": {
                          "outlinewidth": 0,
                          "ticks": ""
                        },
                        "colorscale": [
                          [
                            0,
                            "#0d0887"
                          ],
                          [
                            0.1111111111111111,
                            "#46039f"
                          ],
                          [
                            0.2222222222222222,
                            "#7201a8"
                          ],
                          [
                            0.3333333333333333,
                            "#9c179e"
                          ],
                          [
                            0.4444444444444444,
                            "#bd3786"
                          ],
                          [
                            0.5555555555555556,
                            "#d8576b"
                          ],
                          [
                            0.6666666666666666,
                            "#ed7953"
                          ],
                          [
                            0.7777777777777778,
                            "#fb9f3a"
                          ],
                          [
                            0.8888888888888888,
                            "#fdca26"
                          ],
                          [
                            1,
                            "#f0f921"
                          ]
                        ],
                        "type": "histogram2dcontour"
                      }
                    ],
                    "mesh3d": [
                      {
                        "colorbar": {
                          "outlinewidth": 0,
                          "ticks": ""
                        },
                        "type": "mesh3d"
                      }
                    ],
                    "parcoords": [
                      {
                        "line": {
                          "colorbar": {
                            "outlinewidth": 0,
                            "ticks": ""
                          }
                        },
                        "type": "parcoords"
                      }
                    ],
                    "pie": [
                      {
                        "automargin": true,
                        "type": "pie"
                      }
                    ],
                    "scatter": [
                      {
                        "fillpattern": {
                          "fillmode": "overlay",
                          "size": 10,
                          "solidity": 0.2
                        },
                        "type": "scatter"
                      }
                    ],
                    "scatter3d": [
                      {
                        "line": {
                          "colorbar": {
                            "outlinewidth": 0,
                            "ticks": ""
                          }
                        },
                        "marker": {
                          "colorbar": {
                            "outlinewidth": 0,
                            "ticks": ""
                          }
                        },
                        "type": "scatter3d"
                      }
                    ],
                    "scattercarpet": [
                      {
                        "marker": {
                          "colorbar": {
                            "outlinewidth": 0,
                            "ticks": ""
                          }
                        },
                        "type": "scattercarpet"
                      }
                    ],
                    "scattergeo": [
                      {
                        "marker": {
                          "colorbar": {
                            "outlinewidth": 0,
                            "ticks": ""
                          }
                        },
                        "type": "scattergeo"
                      }
                    ],
                    "scattergl": [
                      {
                        "marker": {
                          "colorbar": {
                            "outlinewidth": 0,
                            "ticks": ""
                          }
                        },
                        "type": "scattergl"
                      }
                    ],
                    "scattermapbox": [
                      {
                        "marker": {
                          "colorbar": {
                            "outlinewidth": 0,
                            "ticks": ""
                          }
                        },
                        "type": "scattermapbox"
                      }
                    ],
                    "scatterpolar": [
                      {
                        "marker": {
                          "colorbar": {
                            "outlinewidth": 0,
                            "ticks": ""
                          }
                        },
                        "type": "scatterpolar"
                      }
                    ],
                    "scatterpolargl": [
                      {
                        "marker": {
                          "colorbar": {
                            "outlinewidth": 0,
                            "ticks": ""
                          }
                        },
                        "type": "scatterpolargl"
                      }
                    ],
                    "scatterternary": [
                      {
                        "marker": {
                          "colorbar": {
                            "outlinewidth": 0,
                            "ticks": ""
                          }
                        },
                        "type": "scatterternary"
                      }
                    ],
                    "surface": [
                      {
                        "colorbar": {
                          "outlinewidth": 0,
                          "ticks": ""
                        },
                        "colorscale": [
                          [
                            0,
                            "#0d0887"
                          ],
                          [
                            0.1111111111111111,
                            "#46039f"
                          ],
                          [
                            0.2222222222222222,
                            "#7201a8"
                          ],
                          [
                            0.3333333333333333,
                            "#9c179e"
                          ],
                          [
                            0.4444444444444444,
                            "#bd3786"
                          ],
                          [
                            0.5555555555555556,
                            "#d8576b"
                          ],
                          [
                            0.6666666666666666,
                            "#ed7953"
                          ],
                          [
                            0.7777777777777778,
                            "#fb9f3a"
                          ],
                          [
                            0.8888888888888888,
                            "#fdca26"
                          ],
                          [
                            1,
                            "#f0f921"
                          ]
                        ],
                        "type": "surface"
                      }
                    ],
                    "table": [
                      {
                        "cells": {
                          "fill": {
                            "color": "#EBF0F8"
                          },
                          "line": {
                            "color": "white"
                          }
                        },
                        "header": {
                          "fill": {
                            "color": "#C8D4E3"
                          },
                          "line": {
                            "color": "white"
                          }
                        },
                        "type": "table"
                      }
                    ]
                  },
                  "layout": {
                    "annotationdefaults": {
                      "arrowcolor": "#2a3f5f",
                      "arrowhead": 0,
                      "arrowwidth": 1
                    },
                    "autotypenumbers": "strict",
                    "coloraxis": {
                      "colorbar": {
                        "outlinewidth": 0,
                        "ticks": ""
                      }
                    },
                    "colorscale": {
                      "diverging": [
                        [
                          0,
                          "#8e0152"
                        ],
                        [
                          0.1,
                          "#c51b7d"
                        ],
                        [
                          0.2,
                          "#de77ae"
                        ],
                        [
                          0.3,
                          "#f1b6da"
                        ],
                        [
                          0.4,
                          "#fde0ef"
                        ],
                        [
                          0.5,
                          "#f7f7f7"
                        ],
                        [
                          0.6,
                          "#e6f5d0"
                        ],
                        [
                          0.7,
                          "#b8e186"
                        ],
                        [
                          0.8,
                          "#7fbc41"
                        ],
                        [
                          0.9,
                          "#4d9221"
                        ],
                        [
                          1,
                          "#276419"
                        ]
                      ],
                      "sequential": [
                        [
                          0,
                          "#0d0887"
                        ],
                        [
                          0.1111111111111111,
                          "#46039f"
                        ],
                        [
                          0.2222222222222222,
                          "#7201a8"
                        ],
                        [
                          0.3333333333333333,
                          "#9c179e"
                        ],
                        [
                          0.4444444444444444,
                          "#bd3786"
                        ],
                        [
                          0.5555555555555556,
                          "#d8576b"
                        ],
                        [
                          0.6666666666666666,
                          "#ed7953"
                        ],
                        [
                          0.7777777777777778,
                          "#fb9f3a"
                        ],
                        [
                          0.8888888888888888,
                          "#fdca26"
                        ],
                        [
                          1,
                          "#f0f921"
                        ]
                      ],
                      "sequentialminus": [
                        [
                          0,
                          "#0d0887"
                        ],
                        [
                          0.1111111111111111,
                          "#46039f"
                        ],
                        [
                          0.2222222222222222,
                          "#7201a8"
                        ],
                        [
                          0.3333333333333333,
                          "#9c179e"
                        ],
                        [
                          0.4444444444444444,
                          "#bd3786"
                        ],
                        [
                          0.5555555555555556,
                          "#d8576b"
                        ],
                        [
                          0.6666666666666666,
                          "#ed7953"
                        ],
                        [
                          0.7777777777777778,
                          "#fb9f3a"
                        ],
                        [
                          0.8888888888888888,
                          "#fdca26"
                        ],
                        [
                          1,
                          "#f0f921"
                        ]
                      ]
                    },
                    "colorway": [
                      "#636efa",
                      "#EF553B",
                      "#00cc96",
                      "#ab63fa",
                      "#FFA15A",
                      "#19d3f3",
                      "#FF6692",
                      "#B6E880",
                      "#FF97FF",
                      "#FECB52"
                    ],
                    "font": {
                      "color": "#2a3f5f"
                    },
                    "geo": {
                      "bgcolor": "white",
                      "lakecolor": "white",
                      "landcolor": "#E5ECF6",
                      "showlakes": true,
                      "showland": true,
                      "subunitcolor": "white"
                    },
                    "hoverlabel": {
                      "align": "left"
                    },
                    "hovermode": "closest",
                    "mapbox": {
                      "style": "light"
                    },
                    "paper_bgcolor": "white",
                    "plot_bgcolor": "#E5ECF6",
                    "polar": {
                      "angularaxis": {
                        "gridcolor": "white",
                        "linecolor": "white",
                        "ticks": ""
                      },
                      "bgcolor": "#E5ECF6",
                      "radialaxis": {
                        "gridcolor": "white",
                        "linecolor": "white",
                        "ticks": ""
                      }
                    },
                    "scene": {
                      "xaxis": {
                        "backgroundcolor": "#E5ECF6",
                        "gridcolor": "white",
                        "gridwidth": 2,
                        "linecolor": "white",
                        "showbackground": true,
                        "ticks": "",
                        "zerolinecolor": "white"
                      },
                      "yaxis": {
                        "backgroundcolor": "#E5ECF6",
                        "gridcolor": "white",
                        "gridwidth": 2,
                        "linecolor": "white",
                        "showbackground": true,
                        "ticks": "",
                        "zerolinecolor": "white"
                      },
                      "zaxis": {
                        "backgroundcolor": "#E5ECF6",
                        "gridcolor": "white",
                        "gridwidth": 2,
                        "linecolor": "white",
                        "showbackground": true,
                        "ticks": "",
                        "zerolinecolor": "white"
                      }
                    },
                    "shapedefaults": {
                      "line": {
                        "color": "#2a3f5f"
                      }
                    },
                    "ternary": {
                      "aaxis": {
                        "gridcolor": "white",
                        "linecolor": "white",
                        "ticks": ""
                      },
                      "baxis": {
                        "gridcolor": "white",
                        "linecolor": "white",
                        "ticks": ""
                      },
                      "bgcolor": "#E5ECF6",
                      "caxis": {
                        "gridcolor": "white",
                        "linecolor": "white",
                        "ticks": ""
                      }
                    },
                    "title": {
                      "x": 0.05
                    },
                    "xaxis": {
                      "automargin": true,
                      "gridcolor": "white",
                      "linecolor": "white",
                      "ticks": "",
                      "title": {
                        "standoff": 15
                      },
                      "zerolinecolor": "white",
                      "zerolinewidth": 2
                    },
                    "yaxis": {
                      "automargin": true,
                      "gridcolor": "white",
                      "linecolor": "white",
                      "ticks": "",
                      "title": {
                        "standoff": 15
                      },
                      "zerolinecolor": "white",
                      "zerolinewidth": 2
                    }
                  }
                },
                "xaxis": {
                  "anchor": "y",
                  "domain": [
                    0,
                    0.98
                  ],
                  "title": {
                    "text": "index"
                  }
                },
                "xaxis2": {
                  "anchor": "y2",
                  "domain": [
                    0,
                    0.98
                  ],
                  "matches": "x",
                  "showticklabels": false
                },
                "yaxis": {
                  "anchor": "x",
                  "domain": [
                    0,
                    0.485
                  ],
                  "title": {
                    "text": "estimate"
                  }
                },
                "yaxis2": {
                  "anchor": "x2",
                  "domain": [
                    0.515,
                    1
                  ],
                  "title": {
                    "text": "estimate"
                  }
                }
              }
            }
          },
          "metadata": {},
          "output_type": "display_data"
        }
      ],
      "source": [
        "monitor_plot = vetiver.plot_metrics(m)\n",
        "monitor_plot.update_yaxes(matches=None)\n",
        "monitor_plot.show()"
      ]
    }
  ],
  "metadata": {
    "kernelspec": {
      "display_name": "Python 3.9.11 64-bit ('pydemo')",
      "language": "python",
      "name": "python3"
    },
    "language_info": {
      "codemirror_mode": {
        "name": "ipython",
        "version": 3
      },
      "file_extension": ".py",
      "mimetype": "text/x-python",
      "name": "python",
      "nbconvert_exporter": "python",
      "pygments_lexer": "ipython3",
      "version": "3.9.11"
    },
    "vscode": {
      "interpreter": {
        "hash": "974018313955b4988b16ea215671657307c8736770f13695d4ded4c5899ccb5a"
      }
    }
  },
  "nbformat": 4,
  "nbformat_minor": 5
}
