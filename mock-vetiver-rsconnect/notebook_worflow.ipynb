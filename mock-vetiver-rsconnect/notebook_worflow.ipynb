{
 "cells": [
  {
   "cell_type": "code",
   "execution_count": null,
   "metadata": {},
   "outputs": [],
   "source": [
    "from vetiver import mock, VetiverModel, VetiverAPI\n",
    "from rsconnect.api import RSConnectServer\n",
    "from rsconnect.actions import deploy_python_fastapi\n",
    "import os\n",
    "from dotenv import load_dotenv, find_dotenv\n",
    "load_dotenv(find_dotenv())\n",
    "\n",
    "api_key = os.getenv(\"API_KEY\")\n",
    "rsc_url = os.getenv(\"RSC_URL\")\n",
    "\n",
    "\n",
    "X, y = mock.get_mock_data()\n",
    "model = mock.get_mock_model().fit(X, y)\n",
    "\n",
    "v = VetiverModel(model = model, save_ptype= True, ptype_data=X,\\\n",
    "    model_name=\"my_model\", versioned=None, description=\"A regression model for testing purposes\")\n"
   ]
  },
  {
   "cell_type": "code",
   "execution_count": null,
   "metadata": {},
   "outputs": [],
   "source": [
    "vetiverapi = VetiverAPI(v)\n",
    "\n",
    "vetiverapp = vetiverapi.app"
   ]
  },
  {
   "cell_type": "code",
   "execution_count": null,
   "metadata": {},
   "outputs": [],
   "source": [
    "connect_server = RSConnectServer(url = rsc_url, api_key = api_key)\n",
    "\n",
    "deploy_python_fastapi(connect_server, directory=\".\", extra_files = None, entry_point=\"service:vetiverapp\", excludes= None)"
   ]
  },
  {
   "cell_type": "code",
   "execution_count": null,
   "metadata": {},
   "outputs": [],
   "source": []
  }
 ],
 "metadata": {
  "interpreter": {
   "hash": "369d463838a8b034b2f8ef715b3bc048e69e136cced9a1d7a9c004509bd5d970"
  },
  "kernelspec": {
   "display_name": "Python 3.9.7 ('base')",
   "language": "python",
   "name": "python3"
  },
  "language_info": {
   "codemirror_mode": {
    "name": "ipython",
    "version": 3
   },
   "file_extension": ".py",
   "mimetype": "text/x-python",
   "name": "python",
   "nbconvert_exporter": "python",
   "pygments_lexer": "ipython3",
   "version": "3.9.7"
  },
  "orig_nbformat": 4
 },
 "nbformat": 4,
 "nbformat_minor": 2
}
