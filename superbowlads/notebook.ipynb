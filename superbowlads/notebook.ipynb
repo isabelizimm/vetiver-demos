{
 "cells": [
  {
   "cell_type": "markdown",
   "metadata": {},
   "source": [
    "# MLOps with `vetiver`\n",
    "\n",
    "## Build a model\n",
    "Data scientists can still use the tools they are most comfortable with for the bulk of their workflow."
   ]
  },
  {
   "cell_type": "code",
   "execution_count": 1,
   "metadata": {},
   "outputs": [],
   "source": [
    "import pandas as pd\n",
    "import numpy as np\n",
    "from sklearn import model_selection, preprocessing, pipeline\n",
    "from sklearn.ensemble import RandomForestRegressor\n",
    "\n",
    "from vetiver import VetiverModel, VetiverAPI, vetiver_endpoint\n",
    "\n",
    "np.random.seed(500)\n",
    "\n",
    "raw = pd.read_csv('https://raw.githubusercontent.com/rfordatascience/tidytuesday/master/data/2021/2021-03-02/youtube.csv')\n",
    "df = pd.DataFrame(raw)"
   ]
  },
  {
   "cell_type": "code",
   "execution_count": 2,
   "metadata": {},
   "outputs": [],
   "source": [
    "df = df[[\"like_count\", \"funny\", \"show_product_quickly\", \"patriotic\", \\\n",
    "    \"celebrity\", \"danger\", \"animals\"]].dropna()\n",
    "X, y = df.iloc[:,1:],df['like_count']\n",
    "X_train, X_test, y_train, y_test = model_selection.train_test_split(X, y,test_size=0.2)\n",
    "\n",
    "le = preprocessing.OrdinalEncoder().fit(X)\n",
    "rf = RandomForestRegressor().fit(le.transform(X_train), y_train)"
   ]
  },
  {
   "cell_type": "code",
   "execution_count": 3,
   "metadata": {},
   "outputs": [],
   "source": [
    "rf = pipeline.Pipeline([('label_encoder',le), ('random_forest', rf)])"
   ]
  },
  {
   "cell_type": "markdown",
   "metadata": {},
   "source": [
    "## Deploy a model\n",
    "\n",
    "Users first create a deployable model.\n",
    "\n",
    "\n",
    "*In R, you saw the equivalent, `vetiver_model()`.*"
   ]
  },
  {
   "cell_type": "code",
   "execution_count": 5,
   "metadata": {},
   "outputs": [],
   "source": [
    "v = VetiverModel(rf, save_ptype = True, ptype_data=X_train, model_name = \"superbowl_rf\")"
   ]
  },
  {
   "cell_type": "markdown",
   "metadata": {},
   "source": [
    "Next, users initialize their API.\n",
    "\n",
    "*In R, you saw the equivalents, `vetiver_api()` and `pr_run()`.*"
   ]
  },
  {
   "cell_type": "code",
   "execution_count": 6,
   "metadata": {},
   "outputs": [
    {
     "name": "stderr",
     "output_type": "stream",
     "text": [
      "/Users/isabelzimmerman/code/github/vetiver-python/vetiver/utils.py:14: UserWarning: WARNING: Jupyter Notebooks are not considered stable environments for production code\n",
      "  warnings.warn(\n",
      "INFO:     Started server process [34377]\n",
      "INFO:     Waiting for application startup.\n",
      "INFO:     Application startup complete.\n",
      "INFO:     Uvicorn running on http://127.0.0.1:8000 (Press CTRL+C to quit)\n",
      "INFO:     Shutting down\n",
      "INFO:     Waiting for application shutdown.\n",
      "INFO:     Application shutdown complete.\n",
      "INFO:     Finished server process [34377]\n"
     ]
    }
   ],
   "source": [
    "app = VetiverAPI(v, check_ptype=True)\n",
    "\n",
    "app.run()"
   ]
  },
  {
   "cell_type": "code",
   "execution_count": 7,
   "metadata": {},
   "outputs": [],
   "source": [
    "from rsconnect.api import RSConnectServer\n",
    "from rsconnect.actions import deploy_python_fastapi\n",
    "import os\n",
    "from dotenv import load_dotenv, find_dotenv\n",
    "load_dotenv(find_dotenv())\n",
    "\n",
    "api_key = os.getenv(\"API_KEY\")\n",
    "rsc_url = os.getenv(\"RSC_URL\")\n",
    "connect_server = RSConnectServer(url = rsc_url, api_key = api_key)"
   ]
  },
  {
   "cell_type": "code",
   "execution_count": null,
   "metadata": {},
   "outputs": [],
   "source": [
    "# deploy_python_fastapi(\n",
    "#     connect_server = connect_server,\n",
    "#     directory = \".\",\n",
    "#     extra_files = None,\n",
    "#     entry_point = \"superbowlads:api\",\n",
    "#     excludes = None,\n",
    "# )"
   ]
  },
  {
   "cell_type": "code",
   "execution_count": 8,
   "metadata": {},
   "outputs": [],
   "source": [
    "from vetiver.server import predict, vetiver_endpoint\n",
    "data = {\n",
    "  \"funny\": False,\n",
    "  \"show_product_quickly\": True,\n",
    "  \"patriotic\": True,\n",
    "  \"celebrity\": False,\n",
    "  \"danger\": True,\n",
    "  \"animals\": True\n",
    "}\n",
    "endpoint = vetiver_endpoint(\"https://colorado.rstudio.com/rsc/content/e5a6dc06-4839-469f-b6dd-2fc03a8abf7f/predict/\")\n",
    "\n",
    "response = predict(data = data, endpoint = endpoint)"
   ]
  },
  {
   "cell_type": "code",
   "execution_count": 9,
   "metadata": {},
   "outputs": [
    {
     "data": {
      "text/plain": [
       "{'prediction': 9558.841252136752}"
      ]
     },
     "execution_count": 9,
     "metadata": {},
     "output_type": "execute_result"
    }
   ],
   "source": [
    "response"
   ]
  }
 ],
 "metadata": {
  "interpreter": {
   "hash": "369d463838a8b034b2f8ef715b3bc048e69e136cced9a1d7a9c004509bd5d970"
  },
  "kernelspec": {
   "display_name": "Python 3.9.7 ('base')",
   "language": "python",
   "name": "python3"
  },
  "language_info": {
   "codemirror_mode": {
    "name": "ipython",
    "version": 3
   },
   "file_extension": ".py",
   "mimetype": "text/x-python",
   "name": "python",
   "nbconvert_exporter": "python",
   "pygments_lexer": "ipython3",
   "version": "3.8.11"
  },
  "orig_nbformat": 4
 },
 "nbformat": 4,
 "nbformat_minor": 2
}
