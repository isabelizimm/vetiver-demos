{
 "cells": [
  {
   "cell_type": "markdown",
   "metadata": {},
   "source": [
    "# MLOps with `vetiver`\n",
    "\n",
    "## Build a model\n",
    "Data scientists can still use the tools they are most comfortable with for the bulk of their workflow."
   ]
  },
  {
   "cell_type": "code",
   "execution_count": null,
   "metadata": {},
   "outputs": [],
   "source": [
    "import pandas as pd\n",
    "import numpy as np\n",
    "from sklearn import model_selection, preprocessing, pipeline\n",
    "from sklearn.ensemble import RandomForestRegressor\n",
    "\n",
    "from vetiver import VetiverModel, VetiverAPI\n",
    "\n",
    "np.random.seed(500)\n",
    "\n",
    "raw = pd.read_csv('https://raw.githubusercontent.com/rfordatascience/tidytuesday/master/data/2021/2021-03-02/youtube.csv')\n",
    "df = pd.DataFrame(raw)"
   ]
  },
  {
   "cell_type": "code",
   "execution_count": null,
   "metadata": {},
   "outputs": [],
   "source": [
    "df = df[[\"like_count\", \"funny\", \"show_product_quickly\", \"patriotic\", \\\n",
    "    \"celebrity\", \"danger\", \"animals\"]].dropna()\n",
    "X, y = df.iloc[:,1:],df['like_count']\n",
    "X_train, X_test, y_train, y_test = model_selection.train_test_split(X, y,test_size=0.2)\n",
    "\n",
    "le = preprocessing.OrdinalEncoder().fit(X)\n",
    "rf = RandomForestRegressor().fit(le.transform(X_train), y_train)"
   ]
  },
  {
   "cell_type": "code",
   "execution_count": null,
   "metadata": {},
   "outputs": [],
   "source": [
    "pipe = pipeline.Pipeline([('label_encoder',le), ('random_forest', rf)])"
   ]
  },
  {
   "cell_type": "markdown",
   "metadata": {},
   "source": [
    "## Deploy a model\n",
    "\n",
    "Users first create a deployable model.\n",
    "\n",
    "\n",
    "*In R, you saw the equivalent, `vetiver_model()`.*"
   ]
  },
  {
   "cell_type": "code",
   "execution_count": null,
   "metadata": {},
   "outputs": [],
   "source": [
    "v = VetiverModel(pipe, save_ptype = True, ptype_data=X_train, model_name = \"superbowl_ads\")"
   ]
  },
  {
   "cell_type": "markdown",
   "metadata": {},
   "source": [
    "Next, users initialize their API.\n",
    "\n",
    "*In R, you saw the equivalents, `vetiver_api()` and `pr_run()`.*"
   ]
  },
  {
   "cell_type": "code",
   "execution_count": 10,
   "metadata": {},
   "outputs": [
    {
     "name": "stderr",
     "output_type": "stream",
     "text": [
      "/Users/isabelzimmerman/miniforge3/lib/python3.9/site-packages/vetiver/utils.py:10: UserWarning: WARNING: Jupyter Notebooks are not considered stable environments for production code\n",
      "  warnings.warn(\n",
      "INFO:     Started server process [26216]\n",
      "INFO:     Waiting for application startup.\n",
      "INFO:     Application startup complete.\n",
      "INFO:     Uvicorn running on http://127.0.0.1:8000 (Press CTRL+C to quit)\n"
     ]
    },
    {
     "name": "stdout",
     "output_type": "stream",
     "text": [
      "INFO:     127.0.0.1:59894 - \"GET / HTTP/1.1\" 307 Temporary Redirect\n",
      "INFO:     127.0.0.1:59894 - \"GET /rapidoc HTTP/1.1\" 200 OK\n",
      "INFO:     127.0.0.1:59894 - \"GET /openapi.json HTTP/1.1\" 200 OK\n",
      "INFO:     127.0.0.1:59894 - \"GET /favicon.ico HTTP/1.1\" 404 Not Found\n",
      "INFO:     127.0.0.1:59894 - \"POST /predict/ HTTP/1.1\" 200 OK\n"
     ]
    },
    {
     "name": "stderr",
     "output_type": "stream",
     "text": [
      "/Users/isabelzimmerman/miniforge3/lib/python3.9/site-packages/sklearn/base.py:445: UserWarning: X does not have valid feature names, but OrdinalEncoder was fitted with feature names\n",
      "  warnings.warn(\n"
     ]
    },
    {
     "name": "stdout",
     "output_type": "stream",
     "text": [
      "INFO:     127.0.0.1:60003 - \"POST /predict/ HTTP/1.1\" 200 OK\n"
     ]
    },
    {
     "name": "stderr",
     "output_type": "stream",
     "text": [
      "/Users/isabelzimmerman/miniforge3/lib/python3.9/site-packages/sklearn/base.py:445: UserWarning: X does not have valid feature names, but OrdinalEncoder was fitted with feature names\n",
      "  warnings.warn(\n"
     ]
    },
    {
     "name": "stdout",
     "output_type": "stream",
     "text": [
      "INFO:     127.0.0.1:60023 - \"GET /rapidoc HTTP/1.1\" 200 OK\n",
      "INFO:     127.0.0.1:60023 - \"GET /openapi.json HTTP/1.1\" 200 OK\n"
     ]
    },
    {
     "name": "stderr",
     "output_type": "stream",
     "text": [
      "INFO:     Shutting down\n",
      "INFO:     Waiting for application shutdown.\n",
      "INFO:     Application shutdown complete.\n",
      "INFO:     Finished server process [26216]\n",
      "Exception in callback <TaskWakeupMethWrapper object at 0x1474cbd60>(<Future finis...510>, ...],))>)\n",
      "handle: <Handle <TaskWakeupMethWrapper object at 0x1474cbd60>(<Future finis...510>, ...],))>)>\n",
      "Traceback (most recent call last):\n",
      "  File \"/Users/isabelzimmerman/miniforge3/lib/python3.9/asyncio/events.py\", line 80, in _run\n",
      "    self._context.run(self._callback, *self._args)\n",
      "RuntimeError: Leaving task <Task pending name='Task-2' coro=<Kernel.dispatch_queue() running at /Users/isabelzimmerman/miniforge3/lib/python3.9/site-packages/ipykernel/kernelbase.py:457> wait_for=<Future pending cb=[<TaskWakeupMethWrapper object at 0x104511ca0>()]> cb=[IOLoop.add_future.<locals>.<lambda>() at /Users/isabelzimmerman/miniforge3/lib/python3.9/site-packages/tornado/ioloop.py:688]> does not match the current task None.\n"
     ]
    }
   ],
   "source": [
    "app = VetiverAPI(v, check_ptype=True)\n",
    "\n",
    "app.run()"
   ]
  },
  {
   "cell_type": "markdown",
   "metadata": {},
   "source": []
  }
 ],
 "metadata": {
  "interpreter": {
   "hash": "369d463838a8b034b2f8ef715b3bc048e69e136cced9a1d7a9c004509bd5d970"
  },
  "kernelspec": {
   "display_name": "Python 3.9.7 ('base')",
   "language": "python",
   "name": "python3"
  },
  "language_info": {
   "codemirror_mode": {
    "name": "ipython",
    "version": 3
   },
   "file_extension": ".py",
   "mimetype": "text/x-python",
   "name": "python",
   "nbconvert_exporter": "python",
   "pygments_lexer": "ipython3",
   "version": "3.9.7"
  },
  "orig_nbformat": 4
 },
 "nbformat": 4,
 "nbformat_minor": 2
}
