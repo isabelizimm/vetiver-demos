{
 "cells": [
  {
   "cell_type": "markdown",
   "metadata": {},
   "source": [
    "## Load model from pin\n",
    "\n",
    "We [previously wrote a pin to RSConnect](../superbowl-intro-py/) that included a model to determine how many YouTube likes a Superbowl ad would receive. We can deploy that pin to different locations using a few helper functions."
   ]
  },
  {
   "cell_type": "code",
   "execution_count": 1,
   "metadata": {},
   "outputs": [],
   "source": [
    "import pins\n",
    "import vetiver\n",
    "\n",
    "import os\n",
    "import rsconnect\n",
    "from dotenv import load_dotenv, find_dotenv\n",
    "load_dotenv(find_dotenv())\n",
    "\n",
    "api_key = os.getenv(\"API_KEY\")\n",
    "rsc_url = os.getenv(\"RSC_URL\")\n",
    "\n",
    "board = pins.board_rsconnect(api_key=api_key, server_url=rsc_url, allow_pickle_read=True)"
   ]
  },
  {
   "cell_type": "markdown",
   "metadata": {},
   "source": [
    "From here, we can move our API from locally hosted to other locations. Vetiver offers built-in functionality to deploy our model to Connect."
   ]
  },
  {
   "cell_type": "code",
   "execution_count": 3,
   "metadata": {},
   "outputs": [],
   "source": [
    "#| eval: false\n",
    "\n",
    "connect_server = rsconnect.api.RSConnectServer(url = rsc_url, api_key = api_key)\n",
    "\n",
    "vetiver.deploy_rsconnect(\n",
    "    connect_server = connect_server, \n",
    "    board = board, \n",
    "    pin_name = \"isabel.zimmerman/superbowl_rf\", \n",
    "    version = \"59869\")"
   ]
  },
  {
   "cell_type": "markdown",
   "metadata": {},
   "source": [
    "However, other cloud deployments may require a Dockerfile. For this workflow, we'll need first `write_app()` to generate a dedicated `app.py` file to be stored inside our container, and then `write_docker()` to create a Dockerfile."
   ]
  },
  {
   "cell_type": "code",
   "execution_count": null,
   "metadata": {},
   "outputs": [],
   "source": [
    "vetiver.write_app(board=board, pin_name=\"isabel.zimmerman/superbowl_rf\")\n",
    "vetiver.write_docker(app_file=\"app.py\")"
   ]
  }
 ],
 "metadata": {
  "kernelspec": {
   "display_name": "Python 3.9.11 64-bit ('pydemo')",
   "language": "python",
   "name": "python3"
  },
  "language_info": {
   "codemirror_mode": {
    "name": "ipython",
    "version": 3
   },
   "file_extension": ".py",
   "mimetype": "text/x-python",
   "name": "python",
   "nbconvert_exporter": "python",
   "pygments_lexer": "ipython3",
   "version": "3.9.11"
  },
  "orig_nbformat": 4,
  "vscode": {
   "interpreter": {
    "hash": "974018313955b4988b16ea215671657307c8736770f13695d4ded4c5899ccb5a"
   }
  }
 },
 "nbformat": 4,
 "nbformat_minor": 2
}
