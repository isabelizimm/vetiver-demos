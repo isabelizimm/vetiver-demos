{
 "cells": [
  {
   "cell_type": "code",
   "execution_count": 1,
   "metadata": {},
   "outputs": [],
   "source": [
    "from vetiver import VetiverModel, VetiverAPI\n",
    "import pandas as pd\n",
    "from sklearn import model_selection, preprocessing, pipeline\n",
    "from sklearn.ensemble import RandomForestRegressor\n",
    "\n",
    "\n",
    "raw = pd.read_csv('https://raw.githubusercontent.com/rfordatascience/tidytuesday/master/data/2021/2021-03-02/youtube.csv')\n",
    "df = pd.DataFrame(raw)\n",
    "df = df[[\"like_count\", \"brand\", \"year\", \"funny\", \"patriotic\", \\\n",
    "    \"celebrity\", \"danger\", \"animals\", \"view_count\"]].dropna()\n",
    "X, y = df.iloc[:,1:],df['like_count']\n",
    "X_train, X_test, y_train, y_test = model_selection.train_test_split(X, y,test_size=0.2)\n"
   ]
  },
  {
   "cell_type": "code",
   "execution_count": 2,
   "metadata": {},
   "outputs": [],
   "source": [
    "le = preprocessing.OrdinalEncoder().fit(X)\n",
    "rf = RandomForestRegressor().fit(le.transform(X_train), y_train)"
   ]
  },
  {
   "cell_type": "code",
   "execution_count": 3,
   "metadata": {},
   "outputs": [],
   "source": [
    "pipe = pipeline.Pipeline([('label_encoder',le), ('random_forest', rf)])"
   ]
  },
  {
   "cell_type": "code",
   "execution_count": 4,
   "metadata": {},
   "outputs": [],
   "source": [
    "ads = VetiverModel(pipe, save_ptype = True, ptype_data=X_train, model_name = \"superbowl_ads\")"
   ]
  },
  {
   "cell_type": "code",
   "execution_count": 5,
   "metadata": {},
   "outputs": [
    {
     "name": "stderr",
     "output_type": "stream",
     "text": [
      "/Users/isabelzimmerman/miniforge3/lib/python3.9/site-packages/vetiver/utils.py:10: UserWarning: WARNING: Jupyter Notebooks are not considered stable environments for production code\n",
      "  warnings.warn(\n",
      "INFO:     Started server process [20198]\n",
      "INFO:     Waiting for application startup.\n",
      "INFO:     Application startup complete.\n",
      "INFO:     Uvicorn running on http://127.0.0.1:8000 (Press CTRL+C to quit)\n"
     ]
    },
    {
     "name": "stdout",
     "output_type": "stream",
     "text": [
      "INFO:     127.0.0.1:63504 - \"GET / HTTP/1.1\" 307 Temporary Redirect\n",
      "INFO:     127.0.0.1:63504 - \"GET /rapidoc HTTP/1.1\" 200 OK\n",
      "INFO:     127.0.0.1:63504 - \"GET /openapi.json HTTP/1.1\" 200 OK\n",
      "INFO:     127.0.0.1:63505 - \"POST /predict/ HTTP/1.1\" 500 Internal Server Error\n"
     ]
    },
    {
     "name": "stderr",
     "output_type": "stream",
     "text": [
      "/Users/isabelzimmerman/miniforge3/lib/python3.9/site-packages/sklearn/base.py:445: UserWarning: X does not have valid feature names, but OrdinalEncoder was fitted with feature names\n",
      "  warnings.warn(\n",
      "ERROR:    Exception in ASGI application\n",
      "Traceback (most recent call last):\n",
      "  File \"/Users/isabelzimmerman/miniforge3/lib/python3.9/site-packages/uvicorn/protocols/http/h11_impl.py\", line 373, in run_asgi\n",
      "    result = await app(self.scope, self.receive, self.send)\n",
      "  File \"/Users/isabelzimmerman/miniforge3/lib/python3.9/site-packages/uvicorn/middleware/proxy_headers.py\", line 75, in __call__\n",
      "    return await self.app(scope, receive, send)\n",
      "  File \"/Users/isabelzimmerman/miniforge3/lib/python3.9/site-packages/fastapi/applications.py\", line 208, in __call__\n",
      "    await super().__call__(scope, receive, send)\n",
      "  File \"/Users/isabelzimmerman/miniforge3/lib/python3.9/site-packages/starlette/applications.py\", line 112, in __call__\n",
      "    await self.middleware_stack(scope, receive, send)\n",
      "  File \"/Users/isabelzimmerman/miniforge3/lib/python3.9/site-packages/starlette/middleware/errors.py\", line 181, in __call__\n",
      "    raise exc\n",
      "  File \"/Users/isabelzimmerman/miniforge3/lib/python3.9/site-packages/starlette/middleware/errors.py\", line 159, in __call__\n",
      "    await self.app(scope, receive, _send)\n",
      "  File \"/Users/isabelzimmerman/miniforge3/lib/python3.9/site-packages/starlette/exceptions.py\", line 82, in __call__\n",
      "    raise exc\n",
      "  File \"/Users/isabelzimmerman/miniforge3/lib/python3.9/site-packages/starlette/exceptions.py\", line 71, in __call__\n",
      "    await self.app(scope, receive, sender)\n",
      "  File \"/Users/isabelzimmerman/miniforge3/lib/python3.9/site-packages/starlette/routing.py\", line 656, in __call__\n",
      "    await route.handle(scope, receive, send)\n",
      "  File \"/Users/isabelzimmerman/miniforge3/lib/python3.9/site-packages/starlette/routing.py\", line 259, in handle\n",
      "    await self.app(scope, receive, send)\n",
      "  File \"/Users/isabelzimmerman/miniforge3/lib/python3.9/site-packages/starlette/routing.py\", line 61, in app\n",
      "    response = await func(request)\n",
      "  File \"/Users/isabelzimmerman/miniforge3/lib/python3.9/site-packages/fastapi/routing.py\", line 226, in app\n",
      "    raw_response = await run_endpoint_function(\n",
      "  File \"/Users/isabelzimmerman/miniforge3/lib/python3.9/site-packages/fastapi/routing.py\", line 159, in run_endpoint_function\n",
      "    return await dependant.call(**values)\n",
      "  File \"/Users/isabelzimmerman/miniforge3/lib/python3.9/site-packages/vetiver/server.py\", line 72, in prediction\n",
      "    y = served_model.predict([served_data])\n",
      "  File \"/Users/isabelzimmerman/miniforge3/lib/python3.9/site-packages/sklearn/utils/metaestimators.py\", line 113, in <lambda>\n",
      "    out = lambda *args, **kwargs: self.fn(obj, *args, **kwargs)  # noqa\n",
      "  File \"/Users/isabelzimmerman/miniforge3/lib/python3.9/site-packages/sklearn/pipeline.py\", line 469, in predict\n",
      "    Xt = transform.transform(Xt)\n",
      "  File \"/Users/isabelzimmerman/miniforge3/lib/python3.9/site-packages/sklearn/preprocessing/_encoders.py\", line 930, in transform\n",
      "    X_int, X_mask = self._transform(\n",
      "  File \"/Users/isabelzimmerman/miniforge3/lib/python3.9/site-packages/sklearn/preprocessing/_encoders.py\", line 142, in _transform\n",
      "    raise ValueError(msg)\n",
      "ValueError: Found unknown categories [0] in column 1 during transform\n"
     ]
    },
    {
     "name": "stdout",
     "output_type": "stream",
     "text": [
      "INFO:     127.0.0.1:63518 - \"POST /predict/ HTTP/1.1\" 500 Internal Server Error\n"
     ]
    },
    {
     "name": "stderr",
     "output_type": "stream",
     "text": [
      "/Users/isabelzimmerman/miniforge3/lib/python3.9/site-packages/sklearn/base.py:445: UserWarning: X does not have valid feature names, but OrdinalEncoder was fitted with feature names\n",
      "  warnings.warn(\n",
      "ERROR:    Exception in ASGI application\n",
      "Traceback (most recent call last):\n",
      "  File \"/Users/isabelzimmerman/miniforge3/lib/python3.9/site-packages/uvicorn/protocols/http/h11_impl.py\", line 373, in run_asgi\n",
      "    result = await app(self.scope, self.receive, self.send)\n",
      "  File \"/Users/isabelzimmerman/miniforge3/lib/python3.9/site-packages/uvicorn/middleware/proxy_headers.py\", line 75, in __call__\n",
      "    return await self.app(scope, receive, send)\n",
      "  File \"/Users/isabelzimmerman/miniforge3/lib/python3.9/site-packages/fastapi/applications.py\", line 208, in __call__\n",
      "    await super().__call__(scope, receive, send)\n",
      "  File \"/Users/isabelzimmerman/miniforge3/lib/python3.9/site-packages/starlette/applications.py\", line 112, in __call__\n",
      "    await self.middleware_stack(scope, receive, send)\n",
      "  File \"/Users/isabelzimmerman/miniforge3/lib/python3.9/site-packages/starlette/middleware/errors.py\", line 181, in __call__\n",
      "    raise exc\n",
      "  File \"/Users/isabelzimmerman/miniforge3/lib/python3.9/site-packages/starlette/middleware/errors.py\", line 159, in __call__\n",
      "    await self.app(scope, receive, _send)\n",
      "  File \"/Users/isabelzimmerman/miniforge3/lib/python3.9/site-packages/starlette/exceptions.py\", line 82, in __call__\n",
      "    raise exc\n",
      "  File \"/Users/isabelzimmerman/miniforge3/lib/python3.9/site-packages/starlette/exceptions.py\", line 71, in __call__\n",
      "    await self.app(scope, receive, sender)\n",
      "  File \"/Users/isabelzimmerman/miniforge3/lib/python3.9/site-packages/starlette/routing.py\", line 656, in __call__\n",
      "    await route.handle(scope, receive, send)\n",
      "  File \"/Users/isabelzimmerman/miniforge3/lib/python3.9/site-packages/starlette/routing.py\", line 259, in handle\n",
      "    await self.app(scope, receive, send)\n",
      "  File \"/Users/isabelzimmerman/miniforge3/lib/python3.9/site-packages/starlette/routing.py\", line 61, in app\n",
      "    response = await func(request)\n",
      "  File \"/Users/isabelzimmerman/miniforge3/lib/python3.9/site-packages/fastapi/routing.py\", line 226, in app\n",
      "    raw_response = await run_endpoint_function(\n",
      "  File \"/Users/isabelzimmerman/miniforge3/lib/python3.9/site-packages/fastapi/routing.py\", line 159, in run_endpoint_function\n",
      "    return await dependant.call(**values)\n",
      "  File \"/Users/isabelzimmerman/miniforge3/lib/python3.9/site-packages/vetiver/server.py\", line 72, in prediction\n",
      "    y = served_model.predict([served_data])\n",
      "  File \"/Users/isabelzimmerman/miniforge3/lib/python3.9/site-packages/sklearn/utils/metaestimators.py\", line 113, in <lambda>\n",
      "    out = lambda *args, **kwargs: self.fn(obj, *args, **kwargs)  # noqa\n",
      "  File \"/Users/isabelzimmerman/miniforge3/lib/python3.9/site-packages/sklearn/pipeline.py\", line 469, in predict\n",
      "    Xt = transform.transform(Xt)\n",
      "  File \"/Users/isabelzimmerman/miniforge3/lib/python3.9/site-packages/sklearn/preprocessing/_encoders.py\", line 930, in transform\n",
      "    X_int, X_mask = self._transform(\n",
      "  File \"/Users/isabelzimmerman/miniforge3/lib/python3.9/site-packages/sklearn/preprocessing/_encoders.py\", line 142, in _transform\n",
      "    raise ValueError(msg)\n",
      "ValueError: Found unknown categories [0] in column 1 during transform\n"
     ]
    },
    {
     "name": "stdout",
     "output_type": "stream",
     "text": [
      "INFO:     127.0.0.1:63521 - \"POST /predict/ HTTP/1.1\" 500 Internal Server Error\n"
     ]
    },
    {
     "name": "stderr",
     "output_type": "stream",
     "text": [
      "/Users/isabelzimmerman/miniforge3/lib/python3.9/site-packages/sklearn/base.py:445: UserWarning: X does not have valid feature names, but OrdinalEncoder was fitted with feature names\n",
      "  warnings.warn(\n",
      "ERROR:    Exception in ASGI application\n",
      "Traceback (most recent call last):\n",
      "  File \"/Users/isabelzimmerman/miniforge3/lib/python3.9/site-packages/uvicorn/protocols/http/h11_impl.py\", line 373, in run_asgi\n",
      "    result = await app(self.scope, self.receive, self.send)\n",
      "  File \"/Users/isabelzimmerman/miniforge3/lib/python3.9/site-packages/uvicorn/middleware/proxy_headers.py\", line 75, in __call__\n",
      "    return await self.app(scope, receive, send)\n",
      "  File \"/Users/isabelzimmerman/miniforge3/lib/python3.9/site-packages/fastapi/applications.py\", line 208, in __call__\n",
      "    await super().__call__(scope, receive, send)\n",
      "  File \"/Users/isabelzimmerman/miniforge3/lib/python3.9/site-packages/starlette/applications.py\", line 112, in __call__\n",
      "    await self.middleware_stack(scope, receive, send)\n",
      "  File \"/Users/isabelzimmerman/miniforge3/lib/python3.9/site-packages/starlette/middleware/errors.py\", line 181, in __call__\n",
      "    raise exc\n",
      "  File \"/Users/isabelzimmerman/miniforge3/lib/python3.9/site-packages/starlette/middleware/errors.py\", line 159, in __call__\n",
      "    await self.app(scope, receive, _send)\n",
      "  File \"/Users/isabelzimmerman/miniforge3/lib/python3.9/site-packages/starlette/exceptions.py\", line 82, in __call__\n",
      "    raise exc\n",
      "  File \"/Users/isabelzimmerman/miniforge3/lib/python3.9/site-packages/starlette/exceptions.py\", line 71, in __call__\n",
      "    await self.app(scope, receive, sender)\n",
      "  File \"/Users/isabelzimmerman/miniforge3/lib/python3.9/site-packages/starlette/routing.py\", line 656, in __call__\n",
      "    await route.handle(scope, receive, send)\n",
      "  File \"/Users/isabelzimmerman/miniforge3/lib/python3.9/site-packages/starlette/routing.py\", line 259, in handle\n",
      "    await self.app(scope, receive, send)\n",
      "  File \"/Users/isabelzimmerman/miniforge3/lib/python3.9/site-packages/starlette/routing.py\", line 61, in app\n",
      "    response = await func(request)\n",
      "  File \"/Users/isabelzimmerman/miniforge3/lib/python3.9/site-packages/fastapi/routing.py\", line 226, in app\n",
      "    raw_response = await run_endpoint_function(\n",
      "  File \"/Users/isabelzimmerman/miniforge3/lib/python3.9/site-packages/fastapi/routing.py\", line 159, in run_endpoint_function\n",
      "    return await dependant.call(**values)\n",
      "  File \"/Users/isabelzimmerman/miniforge3/lib/python3.9/site-packages/vetiver/server.py\", line 72, in prediction\n",
      "    y = served_model.predict([served_data])\n",
      "  File \"/Users/isabelzimmerman/miniforge3/lib/python3.9/site-packages/sklearn/utils/metaestimators.py\", line 113, in <lambda>\n",
      "    out = lambda *args, **kwargs: self.fn(obj, *args, **kwargs)  # noqa\n",
      "  File \"/Users/isabelzimmerman/miniforge3/lib/python3.9/site-packages/sklearn/pipeline.py\", line 469, in predict\n",
      "    Xt = transform.transform(Xt)\n",
      "  File \"/Users/isabelzimmerman/miniforge3/lib/python3.9/site-packages/sklearn/preprocessing/_encoders.py\", line 930, in transform\n",
      "    X_int, X_mask = self._transform(\n",
      "  File \"/Users/isabelzimmerman/miniforge3/lib/python3.9/site-packages/sklearn/preprocessing/_encoders.py\", line 142, in _transform\n",
      "    raise ValueError(msg)\n",
      "ValueError: Found unknown categories [10466.0] in column 7 during transform\n"
     ]
    },
    {
     "name": "stdout",
     "output_type": "stream",
     "text": [
      "INFO:     127.0.0.1:63522 - \"POST /predict/ HTTP/1.1\" 500 Internal Server Error\n"
     ]
    },
    {
     "name": "stderr",
     "output_type": "stream",
     "text": [
      "/Users/isabelzimmerman/miniforge3/lib/python3.9/site-packages/sklearn/base.py:445: UserWarning: X does not have valid feature names, but OrdinalEncoder was fitted with feature names\n",
      "  warnings.warn(\n",
      "ERROR:    Exception in ASGI application\n",
      "Traceback (most recent call last):\n",
      "  File \"/Users/isabelzimmerman/miniforge3/lib/python3.9/site-packages/uvicorn/protocols/http/h11_impl.py\", line 373, in run_asgi\n",
      "    result = await app(self.scope, self.receive, self.send)\n",
      "  File \"/Users/isabelzimmerman/miniforge3/lib/python3.9/site-packages/uvicorn/middleware/proxy_headers.py\", line 75, in __call__\n",
      "    return await self.app(scope, receive, send)\n",
      "  File \"/Users/isabelzimmerman/miniforge3/lib/python3.9/site-packages/fastapi/applications.py\", line 208, in __call__\n",
      "    await super().__call__(scope, receive, send)\n",
      "  File \"/Users/isabelzimmerman/miniforge3/lib/python3.9/site-packages/starlette/applications.py\", line 112, in __call__\n",
      "    await self.middleware_stack(scope, receive, send)\n",
      "  File \"/Users/isabelzimmerman/miniforge3/lib/python3.9/site-packages/starlette/middleware/errors.py\", line 181, in __call__\n",
      "    raise exc\n",
      "  File \"/Users/isabelzimmerman/miniforge3/lib/python3.9/site-packages/starlette/middleware/errors.py\", line 159, in __call__\n",
      "    await self.app(scope, receive, _send)\n",
      "  File \"/Users/isabelzimmerman/miniforge3/lib/python3.9/site-packages/starlette/exceptions.py\", line 82, in __call__\n",
      "    raise exc\n",
      "  File \"/Users/isabelzimmerman/miniforge3/lib/python3.9/site-packages/starlette/exceptions.py\", line 71, in __call__\n",
      "    await self.app(scope, receive, sender)\n",
      "  File \"/Users/isabelzimmerman/miniforge3/lib/python3.9/site-packages/starlette/routing.py\", line 656, in __call__\n",
      "    await route.handle(scope, receive, send)\n",
      "  File \"/Users/isabelzimmerman/miniforge3/lib/python3.9/site-packages/starlette/routing.py\", line 259, in handle\n",
      "    await self.app(scope, receive, send)\n",
      "  File \"/Users/isabelzimmerman/miniforge3/lib/python3.9/site-packages/starlette/routing.py\", line 61, in app\n",
      "    response = await func(request)\n",
      "  File \"/Users/isabelzimmerman/miniforge3/lib/python3.9/site-packages/fastapi/routing.py\", line 226, in app\n",
      "    raw_response = await run_endpoint_function(\n",
      "  File \"/Users/isabelzimmerman/miniforge3/lib/python3.9/site-packages/fastapi/routing.py\", line 159, in run_endpoint_function\n",
      "    return await dependant.call(**values)\n",
      "  File \"/Users/isabelzimmerman/miniforge3/lib/python3.9/site-packages/vetiver/server.py\", line 72, in prediction\n",
      "    y = served_model.predict([served_data])\n",
      "  File \"/Users/isabelzimmerman/miniforge3/lib/python3.9/site-packages/sklearn/utils/metaestimators.py\", line 113, in <lambda>\n",
      "    out = lambda *args, **kwargs: self.fn(obj, *args, **kwargs)  # noqa\n",
      "  File \"/Users/isabelzimmerman/miniforge3/lib/python3.9/site-packages/sklearn/pipeline.py\", line 469, in predict\n",
      "    Xt = transform.transform(Xt)\n",
      "  File \"/Users/isabelzimmerman/miniforge3/lib/python3.9/site-packages/sklearn/preprocessing/_encoders.py\", line 930, in transform\n",
      "    X_int, X_mask = self._transform(\n",
      "  File \"/Users/isabelzimmerman/miniforge3/lib/python3.9/site-packages/sklearn/preprocessing/_encoders.py\", line 142, in _transform\n",
      "    raise ValueError(msg)\n",
      "ValueError: Found unknown categories [10466.0] in column 7 during transform\n"
     ]
    },
    {
     "name": "stdout",
     "output_type": "stream",
     "text": [
      "INFO:     127.0.0.1:63529 - \"POST /predict/ HTTP/1.1\" 500 Internal Server Error\n"
     ]
    },
    {
     "name": "stderr",
     "output_type": "stream",
     "text": [
      "/Users/isabelzimmerman/miniforge3/lib/python3.9/site-packages/sklearn/base.py:445: UserWarning: X does not have valid feature names, but OrdinalEncoder was fitted with feature names\n",
      "  warnings.warn(\n",
      "ERROR:    Exception in ASGI application\n",
      "Traceback (most recent call last):\n",
      "  File \"/Users/isabelzimmerman/miniforge3/lib/python3.9/site-packages/uvicorn/protocols/http/h11_impl.py\", line 373, in run_asgi\n",
      "    result = await app(self.scope, self.receive, self.send)\n",
      "  File \"/Users/isabelzimmerman/miniforge3/lib/python3.9/site-packages/uvicorn/middleware/proxy_headers.py\", line 75, in __call__\n",
      "    return await self.app(scope, receive, send)\n",
      "  File \"/Users/isabelzimmerman/miniforge3/lib/python3.9/site-packages/fastapi/applications.py\", line 208, in __call__\n",
      "    await super().__call__(scope, receive, send)\n",
      "  File \"/Users/isabelzimmerman/miniforge3/lib/python3.9/site-packages/starlette/applications.py\", line 112, in __call__\n",
      "    await self.middleware_stack(scope, receive, send)\n",
      "  File \"/Users/isabelzimmerman/miniforge3/lib/python3.9/site-packages/starlette/middleware/errors.py\", line 181, in __call__\n",
      "    raise exc\n",
      "  File \"/Users/isabelzimmerman/miniforge3/lib/python3.9/site-packages/starlette/middleware/errors.py\", line 159, in __call__\n",
      "    await self.app(scope, receive, _send)\n",
      "  File \"/Users/isabelzimmerman/miniforge3/lib/python3.9/site-packages/starlette/exceptions.py\", line 82, in __call__\n",
      "    raise exc\n",
      "  File \"/Users/isabelzimmerman/miniforge3/lib/python3.9/site-packages/starlette/exceptions.py\", line 71, in __call__\n",
      "    await self.app(scope, receive, sender)\n",
      "  File \"/Users/isabelzimmerman/miniforge3/lib/python3.9/site-packages/starlette/routing.py\", line 656, in __call__\n",
      "    await route.handle(scope, receive, send)\n",
      "  File \"/Users/isabelzimmerman/miniforge3/lib/python3.9/site-packages/starlette/routing.py\", line 259, in handle\n",
      "    await self.app(scope, receive, send)\n",
      "  File \"/Users/isabelzimmerman/miniforge3/lib/python3.9/site-packages/starlette/routing.py\", line 61, in app\n",
      "    response = await func(request)\n",
      "  File \"/Users/isabelzimmerman/miniforge3/lib/python3.9/site-packages/fastapi/routing.py\", line 226, in app\n",
      "    raw_response = await run_endpoint_function(\n",
      "  File \"/Users/isabelzimmerman/miniforge3/lib/python3.9/site-packages/fastapi/routing.py\", line 159, in run_endpoint_function\n",
      "    return await dependant.call(**values)\n",
      "  File \"/Users/isabelzimmerman/miniforge3/lib/python3.9/site-packages/vetiver/server.py\", line 72, in prediction\n",
      "    y = served_model.predict([served_data])\n",
      "  File \"/Users/isabelzimmerman/miniforge3/lib/python3.9/site-packages/sklearn/utils/metaestimators.py\", line 113, in <lambda>\n",
      "    out = lambda *args, **kwargs: self.fn(obj, *args, **kwargs)  # noqa\n",
      "  File \"/Users/isabelzimmerman/miniforge3/lib/python3.9/site-packages/sklearn/pipeline.py\", line 469, in predict\n",
      "    Xt = transform.transform(Xt)\n",
      "  File \"/Users/isabelzimmerman/miniforge3/lib/python3.9/site-packages/sklearn/preprocessing/_encoders.py\", line 930, in transform\n",
      "    X_int, X_mask = self._transform(\n",
      "  File \"/Users/isabelzimmerman/miniforge3/lib/python3.9/site-packages/sklearn/preprocessing/_encoders.py\", line 142, in _transform\n",
      "    raise ValueError(msg)\n",
      "ValueError: Found unknown categories [10466.0] in column 7 during transform\n"
     ]
    },
    {
     "name": "stdout",
     "output_type": "stream",
     "text": [
      "INFO:     127.0.0.1:63533 - \"POST /predict/ HTTP/1.1\" 500 Internal Server Error\n"
     ]
    },
    {
     "name": "stderr",
     "output_type": "stream",
     "text": [
      "/Users/isabelzimmerman/miniforge3/lib/python3.9/site-packages/sklearn/base.py:445: UserWarning: X does not have valid feature names, but OrdinalEncoder was fitted with feature names\n",
      "  warnings.warn(\n",
      "ERROR:    Exception in ASGI application\n",
      "Traceback (most recent call last):\n",
      "  File \"/Users/isabelzimmerman/miniforge3/lib/python3.9/site-packages/uvicorn/protocols/http/h11_impl.py\", line 373, in run_asgi\n",
      "    result = await app(self.scope, self.receive, self.send)\n",
      "  File \"/Users/isabelzimmerman/miniforge3/lib/python3.9/site-packages/uvicorn/middleware/proxy_headers.py\", line 75, in __call__\n",
      "    return await self.app(scope, receive, send)\n",
      "  File \"/Users/isabelzimmerman/miniforge3/lib/python3.9/site-packages/fastapi/applications.py\", line 208, in __call__\n",
      "    await super().__call__(scope, receive, send)\n",
      "  File \"/Users/isabelzimmerman/miniforge3/lib/python3.9/site-packages/starlette/applications.py\", line 112, in __call__\n",
      "    await self.middleware_stack(scope, receive, send)\n",
      "  File \"/Users/isabelzimmerman/miniforge3/lib/python3.9/site-packages/starlette/middleware/errors.py\", line 181, in __call__\n",
      "    raise exc\n",
      "  File \"/Users/isabelzimmerman/miniforge3/lib/python3.9/site-packages/starlette/middleware/errors.py\", line 159, in __call__\n",
      "    await self.app(scope, receive, _send)\n",
      "  File \"/Users/isabelzimmerman/miniforge3/lib/python3.9/site-packages/starlette/exceptions.py\", line 82, in __call__\n",
      "    raise exc\n",
      "  File \"/Users/isabelzimmerman/miniforge3/lib/python3.9/site-packages/starlette/exceptions.py\", line 71, in __call__\n",
      "    await self.app(scope, receive, sender)\n",
      "  File \"/Users/isabelzimmerman/miniforge3/lib/python3.9/site-packages/starlette/routing.py\", line 656, in __call__\n",
      "    await route.handle(scope, receive, send)\n",
      "  File \"/Users/isabelzimmerman/miniforge3/lib/python3.9/site-packages/starlette/routing.py\", line 259, in handle\n",
      "    await self.app(scope, receive, send)\n",
      "  File \"/Users/isabelzimmerman/miniforge3/lib/python3.9/site-packages/starlette/routing.py\", line 61, in app\n",
      "    response = await func(request)\n",
      "  File \"/Users/isabelzimmerman/miniforge3/lib/python3.9/site-packages/fastapi/routing.py\", line 226, in app\n",
      "    raw_response = await run_endpoint_function(\n",
      "  File \"/Users/isabelzimmerman/miniforge3/lib/python3.9/site-packages/fastapi/routing.py\", line 159, in run_endpoint_function\n",
      "    return await dependant.call(**values)\n",
      "  File \"/Users/isabelzimmerman/miniforge3/lib/python3.9/site-packages/vetiver/server.py\", line 72, in prediction\n",
      "    y = served_model.predict([served_data])\n",
      "  File \"/Users/isabelzimmerman/miniforge3/lib/python3.9/site-packages/sklearn/utils/metaestimators.py\", line 113, in <lambda>\n",
      "    out = lambda *args, **kwargs: self.fn(obj, *args, **kwargs)  # noqa\n",
      "  File \"/Users/isabelzimmerman/miniforge3/lib/python3.9/site-packages/sklearn/pipeline.py\", line 469, in predict\n",
      "    Xt = transform.transform(Xt)\n",
      "  File \"/Users/isabelzimmerman/miniforge3/lib/python3.9/site-packages/sklearn/preprocessing/_encoders.py\", line 930, in transform\n",
      "    X_int, X_mask = self._transform(\n",
      "  File \"/Users/isabelzimmerman/miniforge3/lib/python3.9/site-packages/sklearn/preprocessing/_encoders.py\", line 142, in _transform\n",
      "    raise ValueError(msg)\n",
      "ValueError: Found unknown categories [10466.0] in column 7 during transform\n"
     ]
    },
    {
     "name": "stdout",
     "output_type": "stream",
     "text": [
      "INFO:     127.0.0.1:63534 - \"POST /predict/ HTTP/1.1\" 500 Internal Server Error\n"
     ]
    },
    {
     "name": "stderr",
     "output_type": "stream",
     "text": [
      "/Users/isabelzimmerman/miniforge3/lib/python3.9/site-packages/sklearn/base.py:445: UserWarning: X does not have valid feature names, but OrdinalEncoder was fitted with feature names\n",
      "  warnings.warn(\n",
      "ERROR:    Exception in ASGI application\n",
      "Traceback (most recent call last):\n",
      "  File \"/Users/isabelzimmerman/miniforge3/lib/python3.9/site-packages/uvicorn/protocols/http/h11_impl.py\", line 373, in run_asgi\n",
      "    result = await app(self.scope, self.receive, self.send)\n",
      "  File \"/Users/isabelzimmerman/miniforge3/lib/python3.9/site-packages/uvicorn/middleware/proxy_headers.py\", line 75, in __call__\n",
      "    return await self.app(scope, receive, send)\n",
      "  File \"/Users/isabelzimmerman/miniforge3/lib/python3.9/site-packages/fastapi/applications.py\", line 208, in __call__\n",
      "    await super().__call__(scope, receive, send)\n",
      "  File \"/Users/isabelzimmerman/miniforge3/lib/python3.9/site-packages/starlette/applications.py\", line 112, in __call__\n",
      "    await self.middleware_stack(scope, receive, send)\n",
      "  File \"/Users/isabelzimmerman/miniforge3/lib/python3.9/site-packages/starlette/middleware/errors.py\", line 181, in __call__\n",
      "    raise exc\n",
      "  File \"/Users/isabelzimmerman/miniforge3/lib/python3.9/site-packages/starlette/middleware/errors.py\", line 159, in __call__\n",
      "    await self.app(scope, receive, _send)\n",
      "  File \"/Users/isabelzimmerman/miniforge3/lib/python3.9/site-packages/starlette/exceptions.py\", line 82, in __call__\n",
      "    raise exc\n",
      "  File \"/Users/isabelzimmerman/miniforge3/lib/python3.9/site-packages/starlette/exceptions.py\", line 71, in __call__\n",
      "    await self.app(scope, receive, sender)\n",
      "  File \"/Users/isabelzimmerman/miniforge3/lib/python3.9/site-packages/starlette/routing.py\", line 656, in __call__\n",
      "    await route.handle(scope, receive, send)\n",
      "  File \"/Users/isabelzimmerman/miniforge3/lib/python3.9/site-packages/starlette/routing.py\", line 259, in handle\n",
      "    await self.app(scope, receive, send)\n",
      "  File \"/Users/isabelzimmerman/miniforge3/lib/python3.9/site-packages/starlette/routing.py\", line 61, in app\n",
      "    response = await func(request)\n",
      "  File \"/Users/isabelzimmerman/miniforge3/lib/python3.9/site-packages/fastapi/routing.py\", line 226, in app\n",
      "    raw_response = await run_endpoint_function(\n",
      "  File \"/Users/isabelzimmerman/miniforge3/lib/python3.9/site-packages/fastapi/routing.py\", line 159, in run_endpoint_function\n",
      "    return await dependant.call(**values)\n",
      "  File \"/Users/isabelzimmerman/miniforge3/lib/python3.9/site-packages/vetiver/server.py\", line 72, in prediction\n",
      "    y = served_model.predict([served_data])\n",
      "  File \"/Users/isabelzimmerman/miniforge3/lib/python3.9/site-packages/sklearn/utils/metaestimators.py\", line 113, in <lambda>\n",
      "    out = lambda *args, **kwargs: self.fn(obj, *args, **kwargs)  # noqa\n",
      "  File \"/Users/isabelzimmerman/miniforge3/lib/python3.9/site-packages/sklearn/pipeline.py\", line 469, in predict\n",
      "    Xt = transform.transform(Xt)\n",
      "  File \"/Users/isabelzimmerman/miniforge3/lib/python3.9/site-packages/sklearn/preprocessing/_encoders.py\", line 930, in transform\n",
      "    X_int, X_mask = self._transform(\n",
      "  File \"/Users/isabelzimmerman/miniforge3/lib/python3.9/site-packages/sklearn/preprocessing/_encoders.py\", line 142, in _transform\n",
      "    raise ValueError(msg)\n",
      "ValueError: Found unknown categories [10466.0] in column 7 during transform\n"
     ]
    },
    {
     "name": "stdout",
     "output_type": "stream",
     "text": [
      "INFO:     127.0.0.1:63541 - \"POST /predict/ HTTP/1.1\" 500 Internal Server Error\n"
     ]
    },
    {
     "name": "stderr",
     "output_type": "stream",
     "text": [
      "/Users/isabelzimmerman/miniforge3/lib/python3.9/site-packages/sklearn/base.py:445: UserWarning: X does not have valid feature names, but OrdinalEncoder was fitted with feature names\n",
      "  warnings.warn(\n",
      "ERROR:    Exception in ASGI application\n",
      "Traceback (most recent call last):\n",
      "  File \"/Users/isabelzimmerman/miniforge3/lib/python3.9/site-packages/uvicorn/protocols/http/h11_impl.py\", line 373, in run_asgi\n",
      "    result = await app(self.scope, self.receive, self.send)\n",
      "  File \"/Users/isabelzimmerman/miniforge3/lib/python3.9/site-packages/uvicorn/middleware/proxy_headers.py\", line 75, in __call__\n",
      "    return await self.app(scope, receive, send)\n",
      "  File \"/Users/isabelzimmerman/miniforge3/lib/python3.9/site-packages/fastapi/applications.py\", line 208, in __call__\n",
      "    await super().__call__(scope, receive, send)\n",
      "  File \"/Users/isabelzimmerman/miniforge3/lib/python3.9/site-packages/starlette/applications.py\", line 112, in __call__\n",
      "    await self.middleware_stack(scope, receive, send)\n",
      "  File \"/Users/isabelzimmerman/miniforge3/lib/python3.9/site-packages/starlette/middleware/errors.py\", line 181, in __call__\n",
      "    raise exc\n",
      "  File \"/Users/isabelzimmerman/miniforge3/lib/python3.9/site-packages/starlette/middleware/errors.py\", line 159, in __call__\n",
      "    await self.app(scope, receive, _send)\n",
      "  File \"/Users/isabelzimmerman/miniforge3/lib/python3.9/site-packages/starlette/exceptions.py\", line 82, in __call__\n",
      "    raise exc\n",
      "  File \"/Users/isabelzimmerman/miniforge3/lib/python3.9/site-packages/starlette/exceptions.py\", line 71, in __call__\n",
      "    await self.app(scope, receive, sender)\n",
      "  File \"/Users/isabelzimmerman/miniforge3/lib/python3.9/site-packages/starlette/routing.py\", line 656, in __call__\n",
      "    await route.handle(scope, receive, send)\n",
      "  File \"/Users/isabelzimmerman/miniforge3/lib/python3.9/site-packages/starlette/routing.py\", line 259, in handle\n",
      "    await self.app(scope, receive, send)\n",
      "  File \"/Users/isabelzimmerman/miniforge3/lib/python3.9/site-packages/starlette/routing.py\", line 61, in app\n",
      "    response = await func(request)\n",
      "  File \"/Users/isabelzimmerman/miniforge3/lib/python3.9/site-packages/fastapi/routing.py\", line 226, in app\n",
      "    raw_response = await run_endpoint_function(\n",
      "  File \"/Users/isabelzimmerman/miniforge3/lib/python3.9/site-packages/fastapi/routing.py\", line 159, in run_endpoint_function\n",
      "    return await dependant.call(**values)\n",
      "  File \"/Users/isabelzimmerman/miniforge3/lib/python3.9/site-packages/vetiver/server.py\", line 72, in prediction\n",
      "    y = served_model.predict([served_data])\n",
      "  File \"/Users/isabelzimmerman/miniforge3/lib/python3.9/site-packages/sklearn/utils/metaestimators.py\", line 113, in <lambda>\n",
      "    out = lambda *args, **kwargs: self.fn(obj, *args, **kwargs)  # noqa\n",
      "  File \"/Users/isabelzimmerman/miniforge3/lib/python3.9/site-packages/sklearn/pipeline.py\", line 469, in predict\n",
      "    Xt = transform.transform(Xt)\n",
      "  File \"/Users/isabelzimmerman/miniforge3/lib/python3.9/site-packages/sklearn/preprocessing/_encoders.py\", line 930, in transform\n",
      "    X_int, X_mask = self._transform(\n",
      "  File \"/Users/isabelzimmerman/miniforge3/lib/python3.9/site-packages/sklearn/preprocessing/_encoders.py\", line 142, in _transform\n",
      "    raise ValueError(msg)\n",
      "ValueError: Found unknown categories [10466.0] in column 7 during transform\n"
     ]
    },
    {
     "name": "stdout",
     "output_type": "stream",
     "text": [
      "INFO:     127.0.0.1:63563 - \"POST /predict/ HTTP/1.1\" 200 OK\n"
     ]
    },
    {
     "name": "stderr",
     "output_type": "stream",
     "text": [
      "/Users/isabelzimmerman/miniforge3/lib/python3.9/site-packages/sklearn/base.py:445: UserWarning: X does not have valid feature names, but OrdinalEncoder was fitted with feature names\n",
      "  warnings.warn(\n",
      "INFO:     Shutting down\n",
      "INFO:     Waiting for application shutdown.\n",
      "INFO:     Application shutdown complete.\n",
      "INFO:     Finished server process [20198]\n",
      "Exception in callback <TaskWakeupMethWrapper object at 0x107e12e20>(<Future finis...f60>, ...],))>)\n",
      "handle: <Handle <TaskWakeupMethWrapper object at 0x107e12e20>(<Future finis...f60>, ...],))>)>\n",
      "Traceback (most recent call last):\n",
      "  File \"/Users/isabelzimmerman/miniforge3/lib/python3.9/asyncio/events.py\", line 80, in _run\n",
      "    self._context.run(self._callback, *self._args)\n",
      "RuntimeError: Leaving task <Task pending name='Task-1' coro=<Kernel.dispatch_queue() running at /Users/isabelzimmerman/miniforge3/lib/python3.9/site-packages/ipykernel/kernelbase.py:457> wait_for=<Future pending cb=[<TaskWakeupMethWrapper object at 0x14a134820>()]> cb=[IOLoop.add_future.<locals>.<lambda>() at /Users/isabelzimmerman/miniforge3/lib/python3.9/site-packages/tornado/ioloop.py:688]> does not match the current task None.\n"
     ]
    }
   ],
   "source": [
    "app = VetiverAPI(ads, check_ptype=True)\n",
    "\n",
    "app.run()"
   ]
  }
 ],
 "metadata": {
  "interpreter": {
   "hash": "369d463838a8b034b2f8ef715b3bc048e69e136cced9a1d7a9c004509bd5d970"
  },
  "kernelspec": {
   "display_name": "Python 3.9.7 ('base')",
   "language": "python",
   "name": "python3"
  },
  "language_info": {
   "codemirror_mode": {
    "name": "ipython",
    "version": 3
   },
   "file_extension": ".py",
   "mimetype": "text/x-python",
   "name": "python",
   "nbconvert_exporter": "python",
   "pygments_lexer": "ipython3",
   "version": "3.9.7"
  },
  "orig_nbformat": 4
 },
 "nbformat": 4,
 "nbformat_minor": 2
}
